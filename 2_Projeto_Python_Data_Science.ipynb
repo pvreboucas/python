{
  "nbformat": 4,
  "nbformat_minor": 0,
  "metadata": {
    "colab": {
      "provenance": []
    },
    "kernelspec": {
      "name": "python3",
      "display_name": "Python 3"
    },
    "language_info": {
      "name": "python"
    }
  },
  "cells": [
    {
      "cell_type": "markdown",
      "source": [
        "# <font color=green> PYTHON PARA DATA SCIENCE\n",
        "---"
      ],
      "metadata": {
        "id": "AGc2Cf4cBwd7"
      }
    },
    {
      "cell_type": "markdown",
      "source": [
        "## <font color=green> 1. BIBLIOTECAS\n",
        "---"
      ],
      "metadata": {
        "id": "fH2br9y9CYZ8"
      }
    },
    {
      "cell_type": "markdown",
      "source": [
        "## 1.1 Instalação e importação de bibliotecas\n",
        "\n",
        "Na linguagem Python utiliza-se bastante o conceito de bibliotecas como um conjunto de módulos e funções úteis para o usuário. Elas facilitam em reduzir o uso de códigos no projeto, mantendo apenas o necessário para a tarefa que desejamos realizar."
      ],
      "metadata": {
        "id": "jjEKgfiuFzHz"
      }
    },
    {
      "cell_type": "markdown",
      "source": [
        "### Instalando uma biblioteca"
      ],
      "metadata": {
        "id": "JjpazCgqDRfZ"
      }
    },
    {
      "cell_type": "markdown",
      "source": [
        "Para instalar ou atualizar uma biblioteca no Python, podemos recorrer ao `pip` que é um gerenciador de bibliotecas no Python."
      ],
      "metadata": {
        "id": "_qnuIo7oIQYx"
      }
    },
    {
      "cell_type": "code",
      "source": [
        "# Instalando a biblioteca matplotlib pelo pip\n",
        "!pip install matplotlib"
      ],
      "metadata": {
        "id": "rsxrF2fEDWcc",
        "colab": {
          "base_uri": "https://localhost:8080/"
        },
        "outputId": "cd0bd1ae-0776-48cb-e100-b624e43b4ffc"
      },
      "execution_count": 1,
      "outputs": [
        {
          "output_type": "stream",
          "name": "stdout",
          "text": [
            "Requirement already satisfied: matplotlib in /usr/local/lib/python3.10/dist-packages (3.7.1)\n",
            "Requirement already satisfied: contourpy>=1.0.1 in /usr/local/lib/python3.10/dist-packages (from matplotlib) (1.3.0)\n",
            "Requirement already satisfied: cycler>=0.10 in /usr/local/lib/python3.10/dist-packages (from matplotlib) (0.12.1)\n",
            "Requirement already satisfied: fonttools>=4.22.0 in /usr/local/lib/python3.10/dist-packages (from matplotlib) (4.53.1)\n",
            "Requirement already satisfied: kiwisolver>=1.0.1 in /usr/local/lib/python3.10/dist-packages (from matplotlib) (1.4.7)\n",
            "Requirement already satisfied: numpy>=1.20 in /usr/local/lib/python3.10/dist-packages (from matplotlib) (1.26.4)\n",
            "Requirement already satisfied: packaging>=20.0 in /usr/local/lib/python3.10/dist-packages (from matplotlib) (24.1)\n",
            "Requirement already satisfied: pillow>=6.2.0 in /usr/local/lib/python3.10/dist-packages (from matplotlib) (10.4.0)\n",
            "Requirement already satisfied: pyparsing>=2.3.1 in /usr/local/lib/python3.10/dist-packages (from matplotlib) (3.1.4)\n",
            "Requirement already satisfied: python-dateutil>=2.7 in /usr/local/lib/python3.10/dist-packages (from matplotlib) (2.8.2)\n",
            "Requirement already satisfied: six>=1.5 in /usr/local/lib/python3.10/dist-packages (from python-dateutil>=2.7->matplotlib) (1.16.0)\n"
          ]
        }
      ]
    },
    {
      "cell_type": "code",
      "source": [
        "# Instalando uma versão específica do matplotlib\n",
        "!pip install matplotlib==3.6.2"
      ],
      "metadata": {
        "id": "s7JtnISoNHjf",
        "colab": {
          "base_uri": "https://localhost:8080/",
          "height": 532
        },
        "outputId": "e4c8041c-08a3-47de-c862-f45b2d192521"
      },
      "execution_count": 2,
      "outputs": [
        {
          "output_type": "stream",
          "name": "stdout",
          "text": [
            "Collecting matplotlib==3.6.2\n",
            "  Downloading matplotlib-3.6.2-cp310-cp310-manylinux_2_17_x86_64.manylinux2014_x86_64.whl.metadata (6.8 kB)\n",
            "Requirement already satisfied: contourpy>=1.0.1 in /usr/local/lib/python3.10/dist-packages (from matplotlib==3.6.2) (1.3.0)\n",
            "Requirement already satisfied: cycler>=0.10 in /usr/local/lib/python3.10/dist-packages (from matplotlib==3.6.2) (0.12.1)\n",
            "Requirement already satisfied: fonttools>=4.22.0 in /usr/local/lib/python3.10/dist-packages (from matplotlib==3.6.2) (4.53.1)\n",
            "Requirement already satisfied: kiwisolver>=1.0.1 in /usr/local/lib/python3.10/dist-packages (from matplotlib==3.6.2) (1.4.7)\n",
            "Requirement already satisfied: numpy>=1.19 in /usr/local/lib/python3.10/dist-packages (from matplotlib==3.6.2) (1.26.4)\n",
            "Requirement already satisfied: packaging>=20.0 in /usr/local/lib/python3.10/dist-packages (from matplotlib==3.6.2) (24.1)\n",
            "Requirement already satisfied: pillow>=6.2.0 in /usr/local/lib/python3.10/dist-packages (from matplotlib==3.6.2) (10.4.0)\n",
            "Requirement already satisfied: pyparsing>=2.2.1 in /usr/local/lib/python3.10/dist-packages (from matplotlib==3.6.2) (3.1.4)\n",
            "Requirement already satisfied: python-dateutil>=2.7 in /usr/local/lib/python3.10/dist-packages (from matplotlib==3.6.2) (2.8.2)\n",
            "Requirement already satisfied: six>=1.5 in /usr/local/lib/python3.10/dist-packages (from python-dateutil>=2.7->matplotlib==3.6.2) (1.16.0)\n",
            "Downloading matplotlib-3.6.2-cp310-cp310-manylinux_2_17_x86_64.manylinux2014_x86_64.whl (11.8 MB)\n",
            "\u001b[2K   \u001b[90m━━━━━━━━━━━━━━━━━━━━━━━━━━━━━━━━━━━━━━━━\u001b[0m \u001b[32m11.8/11.8 MB\u001b[0m \u001b[31m13.6 MB/s\u001b[0m eta \u001b[36m0:00:00\u001b[0m\n",
            "\u001b[?25hInstalling collected packages: matplotlib\n",
            "  Attempting uninstall: matplotlib\n",
            "    Found existing installation: matplotlib 3.7.1\n",
            "    Uninstalling matplotlib-3.7.1:\n",
            "      Successfully uninstalled matplotlib-3.7.1\n",
            "\u001b[31mERROR: pip's dependency resolver does not currently take into account all the packages that are installed. This behaviour is the source of the following dependency conflicts.\n",
            "bigframes 1.18.0 requires matplotlib>=3.7.1, but you have matplotlib 3.6.2 which is incompatible.\n",
            "plotnine 0.13.6 requires matplotlib>=3.7.0, but you have matplotlib 3.6.2 which is incompatible.\u001b[0m\u001b[31m\n",
            "\u001b[0mSuccessfully installed matplotlib-3.6.2\n"
          ]
        },
        {
          "output_type": "display_data",
          "data": {
            "application/vnd.colab-display-data+json": {
              "pip_warning": {
                "packages": [
                  "matplotlib",
                  "mpl_toolkits"
                ]
              },
              "id": "b10d0c034a4a42d1ad68d920123b46b5"
            }
          },
          "metadata": {}
        }
      ]
    },
    {
      "cell_type": "markdown",
      "source": [
        "Existe também o PYPI que é um repositório de bibliotecas Python que traz as bibliotecas mais utilizadas pela comunidade junto a informações de como usar e acesso as documentações de cada uma delas.\n",
        "\n",
        "- PYPI ([https://pypi.org/](https://pypi.org/))"
      ],
      "metadata": {
        "id": "IHTmQnlXInD1"
      }
    },
    {
      "cell_type": "markdown",
      "source": [
        "### Importando uma biblioteca"
      ],
      "metadata": {
        "id": "A76TbnDbDehe"
      }
    },
    {
      "cell_type": "code",
      "source": [
        "# Importando uma biblioteca sem alias\n",
        "import matplotlib"
      ],
      "metadata": {
        "id": "IOP3GEKUDNaS"
      },
      "execution_count": 2,
      "outputs": []
    },
    {
      "cell_type": "code",
      "source": [
        "matplotlib.__version__"
      ],
      "metadata": {
        "id": "xciT3_H0DNUS",
        "colab": {
          "base_uri": "https://localhost:8080/",
          "height": 35
        },
        "outputId": "c3580be0-88cd-4f83-fbce-891a4fc28236"
      },
      "execution_count": 3,
      "outputs": [
        {
          "output_type": "execute_result",
          "data": {
            "text/plain": [
              "'3.6.2'"
            ],
            "application/vnd.google.colaboratory.intrinsic+json": {
              "type": "string"
            }
          },
          "metadata": {},
          "execution_count": 3
        }
      ]
    },
    {
      "cell_type": "code",
      "source": [
        "# Importando uma biblioteca com alias\n",
        "import matplotlib as plt"
      ],
      "metadata": {
        "id": "I8x0l_5uDNXE"
      },
      "execution_count": 5,
      "outputs": []
    },
    {
      "cell_type": "code",
      "source": [
        "plt.show()"
      ],
      "metadata": {
        "id": "MjQYbxA-DWWT",
        "colab": {
          "base_uri": "https://localhost:8080/",
          "height": 263
        },
        "outputId": "550cd8bf-b2fc-427c-fca4-2a57796b24e6"
      },
      "execution_count": 7,
      "outputs": [
        {
          "output_type": "error",
          "ename": "AttributeError",
          "evalue": "module 'matplotlib' has no attribute 'show'",
          "traceback": [
            "\u001b[0;31m---------------------------------------------------------------------------\u001b[0m",
            "\u001b[0;31mAttributeError\u001b[0m                            Traceback (most recent call last)",
            "\u001b[0;32m<ipython-input-7-1eb00ff78cf2>\u001b[0m in \u001b[0;36m<cell line: 1>\u001b[0;34m()\u001b[0m\n\u001b[0;32m----> 1\u001b[0;31m \u001b[0mplt\u001b[0m\u001b[0;34m.\u001b[0m\u001b[0mshow\u001b[0m\u001b[0;34m(\u001b[0m\u001b[0;34m)\u001b[0m\u001b[0;34m\u001b[0m\u001b[0;34m\u001b[0m\u001b[0m\n\u001b[0m",
            "\u001b[0;32m/usr/local/lib/python3.10/dist-packages/matplotlib/_api/__init__.py\u001b[0m in \u001b[0;36m__getattr__\u001b[0;34m(name)\u001b[0m\n\u001b[1;32m    222\u001b[0m         \u001b[0;32mif\u001b[0m \u001b[0mname\u001b[0m \u001b[0;32min\u001b[0m \u001b[0mprops\u001b[0m\u001b[0;34m:\u001b[0m\u001b[0;34m\u001b[0m\u001b[0;34m\u001b[0m\u001b[0m\n\u001b[1;32m    223\u001b[0m             \u001b[0;32mreturn\u001b[0m \u001b[0mprops\u001b[0m\u001b[0;34m[\u001b[0m\u001b[0mname\u001b[0m\u001b[0;34m]\u001b[0m\u001b[0;34m.\u001b[0m\u001b[0m__get__\u001b[0m\u001b[0;34m(\u001b[0m\u001b[0minstance\u001b[0m\u001b[0;34m)\u001b[0m\u001b[0;34m\u001b[0m\u001b[0;34m\u001b[0m\u001b[0m\n\u001b[0;32m--> 224\u001b[0;31m         raise AttributeError(\n\u001b[0m\u001b[1;32m    225\u001b[0m             f\"module {cls.__module__!r} has no attribute {name!r}\")\n\u001b[1;32m    226\u001b[0m \u001b[0;34m\u001b[0m\u001b[0m\n",
            "\u001b[0;31mAttributeError\u001b[0m: module 'matplotlib' has no attribute 'show'"
          ]
        }
      ]
    },
    {
      "cell_type": "markdown",
      "source": [
        "O PIP é um gerenciador de bibliotecas para Python. Nele temos acesso às bibliotecas já instaladas em nossa aplicação junto a versão de cada uma delas. A partir das linhas de comando, podemos instalar, atualizar e remover pacotes Python. Com o pip, podemos facilmente instalar pacotes de terceiros em projetos Python.\n",
        "\n",
        "Para conseguirmos acessar todos os pacotes instalados em nosso Jupyter Notebook, no Colab, podemos escrever o seguinte código:"
      ],
      "metadata": {
        "id": "-gC1XlbTre21"
      }
    },
    {
      "cell_type": "code",
      "source": [
        "# Imprimindo todos os pacotes instalados no ambiente e suas versões\n",
        "!pip list\n"
      ],
      "metadata": {
        "colab": {
          "base_uri": "https://localhost:8080/"
        },
        "id": "U4TvXx_trhfa",
        "outputId": "b68bfbaa-f4be-47c6-bd25-cb6c565e591e"
      },
      "execution_count": 8,
      "outputs": [
        {
          "output_type": "stream",
          "name": "stdout",
          "text": [
            "Package                          Version\n",
            "-------------------------------- -------------------\n",
            "absl-py                          1.4.0\n",
            "accelerate                       0.34.2\n",
            "aiohappyeyeballs                 2.4.0\n",
            "aiohttp                          3.10.5\n",
            "aiosignal                        1.3.1\n",
            "alabaster                        0.7.16\n",
            "albucore                         0.0.16\n",
            "albumentations                   1.4.15\n",
            "altair                           4.2.2\n",
            "annotated-types                  0.7.0\n",
            "anyio                            3.7.1\n",
            "argon2-cffi                      23.1.0\n",
            "argon2-cffi-bindings             21.2.0\n",
            "array_record                     0.5.1\n",
            "arviz                            0.19.0\n",
            "astropy                          6.1.3\n",
            "astropy-iers-data                0.2024.9.16.0.32.21\n",
            "astunparse                       1.6.3\n",
            "async-timeout                    4.0.3\n",
            "atpublic                         4.1.0\n",
            "attrs                            24.2.0\n",
            "audioread                        3.0.1\n",
            "autograd                         1.7.0\n",
            "babel                            2.16.0\n",
            "backcall                         0.2.0\n",
            "beautifulsoup4                   4.12.3\n",
            "bigframes                        1.18.0\n",
            "bigquery-magics                  0.2.0\n",
            "bleach                           6.1.0\n",
            "blinker                          1.4\n",
            "blis                             0.7.11\n",
            "blosc2                           2.0.0\n",
            "bokeh                            3.4.3\n",
            "bqplot                           0.12.43\n",
            "branca                           0.7.2\n",
            "build                            1.2.2\n",
            "CacheControl                     0.14.0\n",
            "cachetools                       5.5.0\n",
            "catalogue                        2.0.10\n",
            "certifi                          2024.8.30\n",
            "cffi                             1.17.1\n",
            "chardet                          5.2.0\n",
            "charset-normalizer               3.3.2\n",
            "chex                             0.1.86\n",
            "clarabel                         0.9.0\n",
            "click                            8.1.7\n",
            "cloudpathlib                     0.19.0\n",
            "cloudpickle                      2.2.1\n",
            "cmake                            3.30.3\n",
            "cmdstanpy                        1.2.4\n",
            "colorcet                         3.1.0\n",
            "colorlover                       0.3.0\n",
            "colour                           0.1.5\n",
            "community                        1.0.0b1\n",
            "confection                       0.1.5\n",
            "cons                             0.4.6\n",
            "contextlib2                      21.6.0\n",
            "contourpy                        1.3.0\n",
            "cryptography                     43.0.1\n",
            "cuda-python                      12.2.1\n",
            "cudf-cu12                        24.4.1\n",
            "cufflinks                        0.17.3\n",
            "cupy-cuda12x                     12.2.0\n",
            "cvxopt                           1.3.2\n",
            "cvxpy                            1.5.3\n",
            "cycler                           0.12.1\n",
            "cymem                            2.0.8\n",
            "Cython                           3.0.11\n",
            "dask                             2024.8.0\n",
            "datascience                      0.17.6\n",
            "db-dtypes                        1.3.0\n",
            "dbus-python                      1.2.18\n",
            "debugpy                          1.6.6\n",
            "decorator                        4.4.2\n",
            "defusedxml                       0.7.1\n",
            "distributed                      2024.8.0\n",
            "distro                           1.7.0\n",
            "dlib                             19.24.2\n",
            "dm-tree                          0.1.8\n",
            "docstring_parser                 0.16\n",
            "docutils                         0.18.1\n",
            "dopamine_rl                      4.0.9\n",
            "duckdb                           1.1.0\n",
            "earthengine-api                  1.0.0\n",
            "easydict                         1.13\n",
            "ecos                             2.0.14\n",
            "editdistance                     0.8.1\n",
            "eerepr                           0.0.4\n",
            "einops                           0.8.0\n",
            "en-core-web-sm                   3.7.1\n",
            "entrypoints                      0.4\n",
            "et-xmlfile                       1.1.0\n",
            "etils                            1.9.4\n",
            "etuples                          0.3.9\n",
            "eval_type_backport               0.2.0\n",
            "exceptiongroup                   1.2.2\n",
            "fastai                           2.7.17\n",
            "fastcore                         1.7.8\n",
            "fastdownload                     0.0.7\n",
            "fastjsonschema                   2.20.0\n",
            "fastprogress                     1.0.3\n",
            "fastrlock                        0.8.2\n",
            "filelock                         3.16.1\n",
            "firebase-admin                   6.5.0\n",
            "Flask                            2.2.5\n",
            "flatbuffers                      24.3.25\n",
            "flax                             0.8.5\n",
            "folium                           0.17.0\n",
            "fonttools                        4.53.1\n",
            "frozendict                       2.4.4\n",
            "frozenlist                       1.4.1\n",
            "fsspec                           2024.6.1\n",
            "future                           1.0.0\n",
            "gast                             0.6.0\n",
            "gcsfs                            2024.6.1\n",
            "GDAL                             3.6.4\n",
            "gdown                            5.2.0\n",
            "geemap                           0.34.3\n",
            "gensim                           4.3.3\n",
            "geocoder                         1.38.1\n",
            "geographiclib                    2.0\n",
            "geopandas                        1.0.1\n",
            "geopy                            2.4.1\n",
            "gin-config                       0.5.0\n",
            "glob2                            0.7\n",
            "google                           2.0.3\n",
            "google-ai-generativelanguage     0.6.6\n",
            "google-api-core                  2.19.2\n",
            "google-api-python-client         2.137.0\n",
            "google-auth                      2.27.0\n",
            "google-auth-httplib2             0.2.0\n",
            "google-auth-oauthlib             1.2.1\n",
            "google-cloud-aiplatform          1.67.1\n",
            "google-cloud-bigquery            3.25.0\n",
            "google-cloud-bigquery-connection 1.15.5\n",
            "google-cloud-bigquery-storage    2.26.0\n",
            "google-cloud-bigtable            2.26.0\n",
            "google-cloud-core                2.4.1\n",
            "google-cloud-datastore           2.19.0\n",
            "google-cloud-firestore           2.16.1\n",
            "google-cloud-functions           1.16.5\n",
            "google-cloud-iam                 2.15.2\n",
            "google-cloud-language            2.13.4\n",
            "google-cloud-pubsub              2.23.1\n",
            "google-cloud-resource-manager    1.12.5\n",
            "google-cloud-storage             2.8.0\n",
            "google-cloud-translate           3.15.5\n",
            "google-colab                     1.0.0\n",
            "google-crc32c                    1.6.0\n",
            "google-generativeai              0.7.2\n",
            "google-pasta                     0.2.0\n",
            "google-resumable-media           2.7.2\n",
            "googleapis-common-protos         1.65.0\n",
            "googledrivedownloader            0.4\n",
            "graphviz                         0.20.3\n",
            "greenlet                         3.1.1\n",
            "grpc-google-iam-v1               0.13.1\n",
            "grpcio                           1.64.1\n",
            "grpcio-status                    1.48.2\n",
            "gspread                          6.0.2\n",
            "gspread-dataframe                3.3.1\n",
            "gym                              0.25.2\n",
            "gym-notices                      0.0.8\n",
            "h5netcdf                         1.3.0\n",
            "h5py                             3.11.0\n",
            "holidays                         0.57\n",
            "holoviews                        1.19.1\n",
            "html5lib                         1.1\n",
            "httpimport                       1.4.0\n",
            "httplib2                         0.22.0\n",
            "huggingface-hub                  0.24.7\n",
            "humanize                         4.10.0\n",
            "hyperopt                         0.2.7\n",
            "ibis-framework                   9.2.0\n",
            "idna                             3.10\n",
            "imageio                          2.35.1\n",
            "imageio-ffmpeg                   0.5.1\n",
            "imagesize                        1.4.1\n",
            "imbalanced-learn                 0.12.3\n",
            "imgaug                           0.4.0\n",
            "immutabledict                    4.2.0\n",
            "importlib_metadata               8.5.0\n",
            "importlib_resources              6.4.5\n",
            "imutils                          0.5.4\n",
            "inflect                          7.4.0\n",
            "iniconfig                        2.0.0\n",
            "intel-cmplr-lib-ur               2024.2.1\n",
            "intel-openmp                     2024.2.1\n",
            "ipyevents                        2.0.2\n",
            "ipyfilechooser                   0.6.0\n",
            "ipykernel                        5.5.6\n",
            "ipyleaflet                       0.19.2\n",
            "ipyparallel                      8.8.0\n",
            "ipython                          7.34.0\n",
            "ipython-genutils                 0.2.0\n",
            "ipython-sql                      0.5.0\n",
            "ipytree                          0.2.2\n",
            "ipywidgets                       7.7.1\n",
            "itsdangerous                     2.2.0\n",
            "jax                              0.4.33\n",
            "jax-cuda12-pjrt                  0.4.33\n",
            "jax-cuda12-plugin                0.4.33\n",
            "jaxlib                           0.4.33\n",
            "jeepney                          0.7.1\n",
            "jellyfish                        1.1.0\n",
            "jieba                            0.42.1\n",
            "Jinja2                           3.1.4\n",
            "joblib                           1.4.2\n",
            "jsonpickle                       3.3.0\n",
            "jsonschema                       4.23.0\n",
            "jsonschema-specifications        2023.12.1\n",
            "jupyter-client                   6.1.12\n",
            "jupyter-console                  6.1.0\n",
            "jupyter_core                     5.7.2\n",
            "jupyter-leaflet                  0.19.2\n",
            "jupyter-server                   1.24.0\n",
            "jupyterlab_pygments              0.3.0\n",
            "jupyterlab_widgets               3.0.13\n",
            "kaggle                           1.6.17\n",
            "kagglehub                        0.3.0\n",
            "keras                            3.4.1\n",
            "keyring                          23.5.0\n",
            "kiwisolver                       1.4.7\n",
            "langcodes                        3.4.0\n",
            "language_data                    1.2.0\n",
            "launchpadlib                     1.10.16\n",
            "lazr.restfulclient               0.14.4\n",
            "lazr.uri                         1.0.6\n",
            "lazy_loader                      0.4\n",
            "libclang                         18.1.1\n",
            "librosa                          0.10.2.post1\n",
            "lightgbm                         4.5.0\n",
            "linkify-it-py                    2.0.3\n",
            "llvmlite                         0.43.0\n",
            "locket                           1.0.0\n",
            "logical-unification              0.4.6\n",
            "lxml                             4.9.4\n",
            "marisa-trie                      1.2.0\n",
            "Markdown                         3.7\n",
            "markdown-it-py                   3.0.0\n",
            "MarkupSafe                       2.1.5\n",
            "matplotlib                       3.6.2\n",
            "matplotlib-inline                0.1.7\n",
            "matplotlib-venn                  1.1.1\n",
            "mdit-py-plugins                  0.4.2\n",
            "mdurl                            0.1.2\n",
            "miniKanren                       1.0.3\n",
            "missingno                        0.5.2\n",
            "mistune                          0.8.4\n",
            "mizani                           0.11.4\n",
            "mkl                              2024.2.2\n",
            "ml-dtypes                        0.4.1\n",
            "mlxtend                          0.23.1\n",
            "more-itertools                   10.5.0\n",
            "moviepy                          1.0.3\n",
            "mpmath                           1.3.0\n",
            "msgpack                          1.0.8\n",
            "multidict                        6.1.0\n",
            "multipledispatch                 1.0.0\n",
            "multitasking                     0.0.11\n",
            "murmurhash                       1.0.10\n",
            "music21                          9.1.0\n",
            "namex                            0.0.8\n",
            "natsort                          8.4.0\n",
            "nbclassic                        1.1.0\n",
            "nbclient                         0.10.0\n",
            "nbconvert                        6.5.4\n",
            "nbformat                         5.10.4\n",
            "nest-asyncio                     1.6.0\n",
            "networkx                         3.3\n",
            "nibabel                          5.2.1\n",
            "nltk                             3.8.1\n",
            "notebook                         6.5.5\n",
            "notebook_shim                    0.2.4\n",
            "numba                            0.60.0\n",
            "numexpr                          2.10.1\n",
            "numpy                            1.26.4\n",
            "nvidia-cublas-cu12               12.6.1.4\n",
            "nvidia-cuda-cupti-cu12           12.6.68\n",
            "nvidia-cuda-nvcc-cu12            12.6.68\n",
            "nvidia-cuda-runtime-cu12         12.6.68\n",
            "nvidia-cudnn-cu12                9.4.0.58\n",
            "nvidia-cufft-cu12                11.2.6.59\n",
            "nvidia-cusolver-cu12             11.6.4.69\n",
            "nvidia-cusparse-cu12             12.5.3.3\n",
            "nvidia-nccl-cu12                 2.23.4\n",
            "nvidia-nvjitlink-cu12            12.6.68\n",
            "nvtx                             0.2.10\n",
            "oauth2client                     4.1.3\n",
            "oauthlib                         3.2.2\n",
            "opencv-contrib-python            4.10.0.84\n",
            "opencv-python                    4.10.0.84\n",
            "opencv-python-headless           4.10.0.84\n",
            "openpyxl                         3.1.5\n",
            "opt-einsum                       3.3.0\n",
            "optax                            0.2.3\n",
            "optree                           0.12.1\n",
            "orbax-checkpoint                 0.6.4\n",
            "osqp                             0.6.7.post0\n",
            "packaging                        24.1\n",
            "pandas                           2.1.4\n",
            "pandas-datareader                0.10.0\n",
            "pandas-gbq                       0.23.1\n",
            "pandas-stubs                     2.1.4.231227\n",
            "pandocfilters                    1.5.1\n",
            "panel                            1.4.5\n",
            "param                            2.1.1\n",
            "parso                            0.8.4\n",
            "parsy                            2.1\n",
            "partd                            1.4.2\n",
            "pathlib                          1.0.1\n",
            "patsy                            0.5.6\n",
            "peewee                           3.17.6\n",
            "pexpect                          4.9.0\n",
            "pickleshare                      0.7.5\n",
            "pillow                           10.4.0\n",
            "pip                              24.1.2\n",
            "pip-tools                        7.4.1\n",
            "platformdirs                     4.3.6\n",
            "plotly                           5.24.1\n",
            "plotnine                         0.13.6\n",
            "pluggy                           1.5.0\n",
            "polars                           1.6.0\n",
            "pooch                            1.8.2\n",
            "portpicker                       1.5.2\n",
            "prefetch_generator               1.0.3\n",
            "preshed                          3.0.9\n",
            "prettytable                      3.11.0\n",
            "proglog                          0.1.10\n",
            "progressbar2                     4.5.0\n",
            "prometheus_client                0.21.0\n",
            "promise                          2.3\n",
            "prompt_toolkit                   3.0.47\n",
            "prophet                          1.1.5\n",
            "proto-plus                       1.24.0\n",
            "protobuf                         3.20.3\n",
            "psutil                           5.9.5\n",
            "psycopg2                         2.9.9\n",
            "ptyprocess                       0.7.0\n",
            "py-cpuinfo                       9.0.0\n",
            "py4j                             0.10.9.7\n",
            "pyarrow                          14.0.2\n",
            "pyarrow-hotfix                   0.6\n",
            "pyasn1                           0.6.1\n",
            "pyasn1_modules                   0.4.1\n",
            "pycocotools                      2.0.8\n",
            "pycparser                        2.22\n",
            "pydantic                         2.9.2\n",
            "pydantic_core                    2.23.4\n",
            "pydata-google-auth               1.8.2\n",
            "pydot                            3.0.1\n",
            "pydot-ng                         2.0.0\n",
            "pydotplus                        2.0.2\n",
            "PyDrive                          1.3.1\n",
            "PyDrive2                         1.20.0\n",
            "pyerfa                           2.0.1.4\n",
            "pygame                           2.6.0\n",
            "Pygments                         2.18.0\n",
            "PyGObject                        3.42.1\n",
            "PyJWT                            2.9.0\n",
            "pymc                             5.16.2\n",
            "pymystem3                        0.2.0\n",
            "pynvjitlink-cu12                 0.3.0\n",
            "pyogrio                          0.9.0\n",
            "PyOpenGL                         3.1.7\n",
            "pyOpenSSL                        24.2.1\n",
            "pyparsing                        3.1.4\n",
            "pyperclip                        1.9.0\n",
            "pyproj                           3.6.1\n",
            "pyproject_hooks                  1.1.0\n",
            "pyshp                            2.3.1\n",
            "PySocks                          1.7.1\n",
            "pytensor                         2.25.4\n",
            "pytest                           7.4.4\n",
            "python-apt                       2.4.0\n",
            "python-box                       7.2.0\n",
            "python-dateutil                  2.8.2\n",
            "python-louvain                   0.16\n",
            "python-slugify                   8.0.4\n",
            "python-utils                     3.8.2\n",
            "pytz                             2024.2\n",
            "pyviz_comms                      3.0.3\n",
            "PyYAML                           6.0.2\n",
            "pyzmq                            24.0.1\n",
            "qdldl                            0.1.7.post4\n",
            "ratelim                          0.1.6\n",
            "referencing                      0.35.1\n",
            "regex                            2024.9.11\n",
            "requests                         2.32.3\n",
            "requests-oauthlib                1.3.1\n",
            "requirements-parser              0.9.0\n",
            "rich                             13.8.1\n",
            "rmm-cu12                         24.4.0\n",
            "rpds-py                          0.20.0\n",
            "rpy2                             3.4.2\n",
            "rsa                              4.9\n",
            "safetensors                      0.4.5\n",
            "scikit-image                     0.24.0\n",
            "scikit-learn                     1.5.2\n",
            "scipy                            1.13.1\n",
            "scooby                           0.10.0\n",
            "scs                              3.2.7\n",
            "seaborn                          0.13.1\n",
            "SecretStorage                    3.3.1\n",
            "Send2Trash                       1.8.3\n",
            "sentencepiece                    0.2.0\n",
            "setuptools                       71.0.4\n",
            "shapely                          2.0.6\n",
            "shellingham                      1.5.4\n",
            "simple-parsing                   0.1.6\n",
            "six                              1.16.0\n",
            "sklearn-pandas                   2.2.0\n",
            "smart-open                       7.0.4\n",
            "sniffio                          1.3.1\n",
            "snowballstemmer                  2.2.0\n",
            "sortedcontainers                 2.4.0\n",
            "soundfile                        0.12.1\n",
            "soupsieve                        2.6\n",
            "soxr                             0.5.0.post1\n",
            "spacy                            3.7.6\n",
            "spacy-legacy                     3.0.12\n",
            "spacy-loggers                    1.0.5\n",
            "Sphinx                           5.0.2\n",
            "sphinxcontrib-applehelp          2.0.0\n",
            "sphinxcontrib-devhelp            2.0.0\n",
            "sphinxcontrib-htmlhelp           2.1.0\n",
            "sphinxcontrib-jsmath             1.0.1\n",
            "sphinxcontrib-qthelp             2.0.0\n",
            "sphinxcontrib-serializinghtml    2.0.0\n",
            "SQLAlchemy                       2.0.35\n",
            "sqlglot                          25.1.0\n",
            "sqlparse                         0.5.1\n",
            "srsly                            2.4.8\n",
            "stanio                           0.5.1\n",
            "statsmodels                      0.14.3\n",
            "StrEnum                          0.4.15\n",
            "sympy                            1.13.3\n",
            "tables                           3.8.0\n",
            "tabulate                         0.9.0\n",
            "tbb                              2021.13.1\n",
            "tblib                            3.0.0\n",
            "tenacity                         9.0.0\n",
            "tensorboard                      2.17.0\n",
            "tensorboard-data-server          0.7.2\n",
            "tensorflow                       2.17.0\n",
            "tensorflow-datasets              4.9.6\n",
            "tensorflow-hub                   0.16.1\n",
            "tensorflow-io-gcs-filesystem     0.37.1\n",
            "tensorflow-metadata              1.15.0\n",
            "tensorflow-probability           0.24.0\n",
            "tensorstore                      0.1.65\n",
            "termcolor                        2.4.0\n",
            "terminado                        0.18.1\n",
            "text-unidecode                   1.3\n",
            "textblob                         0.17.1\n",
            "tf_keras                         2.17.0\n",
            "tf-slim                          1.1.0\n",
            "thinc                            8.2.5\n",
            "threadpoolctl                    3.5.0\n",
            "tifffile                         2024.9.20\n",
            "tinycss2                         1.3.0\n",
            "tokenizers                       0.19.1\n",
            "toml                             0.10.2\n",
            "tomli                            2.0.1\n",
            "toolz                            0.12.1\n",
            "torch                            2.4.1+cu121\n",
            "torchaudio                       2.4.1+cu121\n",
            "torchsummary                     1.5.1\n",
            "torchvision                      0.19.1+cu121\n",
            "tornado                          6.3.3\n",
            "tqdm                             4.66.5\n",
            "traitlets                        5.7.1\n",
            "traittypes                       0.2.1\n",
            "transformers                     4.44.2\n",
            "tweepy                           4.14.0\n",
            "typeguard                        4.3.0\n",
            "typer                            0.12.5\n",
            "types-pytz                       2024.2.0.20240913\n",
            "types-setuptools                 75.1.0.20240917\n",
            "typing_extensions                4.12.2\n",
            "tzdata                           2024.1\n",
            "tzlocal                          5.2\n",
            "uc-micro-py                      1.0.3\n",
            "uritemplate                      4.1.1\n",
            "urllib3                          2.2.3\n",
            "vega-datasets                    0.9.0\n",
            "wadllib                          1.3.6\n",
            "wasabi                           1.1.3\n",
            "wcwidth                          0.2.13\n",
            "weasel                           0.4.1\n",
            "webcolors                        24.8.0\n",
            "webencodings                     0.5.1\n",
            "websocket-client                 1.8.0\n",
            "Werkzeug                         3.0.4\n",
            "wheel                            0.44.0\n",
            "widgetsnbextension               3.6.9\n",
            "wordcloud                        1.9.3\n",
            "wrapt                            1.16.0\n",
            "xarray                           2024.9.0\n",
            "xarray-einstats                  0.8.0\n",
            "xgboost                          2.1.1\n",
            "xlrd                             2.0.1\n",
            "xyzservices                      2024.9.0\n",
            "yarl                             1.11.1\n",
            "yellowbrick                      1.5\n",
            "yfinance                         0.2.43\n",
            "zict                             3.0.0\n",
            "zipp                             3.20.2\n"
          ]
        }
      ]
    },
    {
      "cell_type": "markdown",
      "source": [
        "O pip funciona conectando-se ao [Python Package Index (PyPI)](https://pypi.org/) que é o maior repositório centralizado para pacotes Python com milhares de bibliotecas disponíveis para instalação. Podemos pesquisar no PyPI para encontrar pacotes que atendam às necessidades e, em seguida, usar o pip para instalá-los em nossos projetos.\n",
        "\n",
        "O PyPI é mantido pela [Python Software Foundation](https://www.python.org/psf-landing/) e contém uma ampla variedade de pacotes Python. Nele são publicados pacotes Python para que outras pessoas desenvolvedoras possam usá-los. Logo, o pip e o PyPI são duas ferramentas importantes em Python."
      ],
      "metadata": {
        "id": "2bhEHJ91rjPP"
      }
    },
    {
      "cell_type": "markdown",
      "source": [
        "## 1.2 Utilizando pacotes/bibliotecas\n",
        "\n",
        "- Documentação do Python (https://docs.python.org/pt-br/3/)"
      ],
      "metadata": {
        "id": "oMxkV9-6GXwH"
      }
    },
    {
      "cell_type": "markdown",
      "source": [
        "#### Exemplo 1: Vamos testar a biblioteca Matplotlib para um exemplo de médias de estudantes de uma classe.\n",
        "\n",
        "(https://matplotlib.org/stable/tutorials/introductory/pyplot.html)"
      ],
      "metadata": {
        "id": "W1MHaXB2Q7tT"
      }
    },
    {
      "cell_type": "code",
      "source": [
        "import matplotlib.pyplot as plt"
      ],
      "metadata": {
        "id": "jKBw5ho2DWTa"
      },
      "execution_count": 9,
      "outputs": []
    },
    {
      "cell_type": "code",
      "source": [
        "estudantes = [\"João\", \"Maria\", \"José\"]\n",
        "notas = [8.5, 9, 6.5]"
      ],
      "metadata": {
        "id": "3Q8p9LonGo63"
      },
      "execution_count": 10,
      "outputs": []
    },
    {
      "cell_type": "code",
      "source": [
        "plt.bar(x = estudantes, height = notas)"
      ],
      "metadata": {
        "id": "yhwQqLmBRvIw",
        "colab": {
          "base_uri": "https://localhost:8080/",
          "height": 447
        },
        "outputId": "e4dc8890-fe12-466b-aab5-e9ca72807315"
      },
      "execution_count": 12,
      "outputs": [
        {
          "output_type": "execute_result",
          "data": {
            "text/plain": [
              "<BarContainer object of 3 artists>"
            ]
          },
          "metadata": {},
          "execution_count": 12
        },
        {
          "output_type": "display_data",
          "data": {
            "text/plain": [
              "<Figure size 640x480 with 1 Axes>"
            ],
            "image/png": "[encoded data removed]"
          },
          "metadata": {}
        }
      ]
    },
    {
      "cell_type": "markdown",
      "source": [
        "#### Exemplo 2: Vamos selecionar aleatoriamente um aluno para apresentar o seu trabalho de ciência de dados usando a biblioteca Random\n",
        "\n",
        "(https://docs.python.org/pt-br/3/library/random.html)"
      ],
      "metadata": {
        "id": "5G6u4ZRYRIFZ"
      }
    },
    {
      "cell_type": "code",
      "source": [
        "estudantes_2 = [\"João\", \"Maria\", \"José\", \"Ana\"]"
      ],
      "metadata": {
        "id": "vnqGBX4DYv17"
      },
      "execution_count": 13,
      "outputs": []
    },
    {
      "cell_type": "code",
      "source": [
        "# Importando uma função específica de uma biblioteca\n",
        "from random import choice\n"
      ],
      "metadata": {
        "id": "5UYHaiWaGoy1"
      },
      "execution_count": 15,
      "outputs": []
    },
    {
      "cell_type": "markdown",
      "source": [
        "<font color=green>**Dica:**</font> Você pode notar ao longo de nossa prática a importância de recorrer a documentação para aprender como utilizar um método ou pacote na linguagem Python.\n",
        "\n",
        "O método `help()`, por exemplo, retorna uma descrição sobre uma variável, método ou classe.\n",
        "\n",
        "https://docs.python.org/pt-br/3/library/functions.html?#help"
      ],
      "metadata": {
        "id": "N-XJrnISGpTN"
      }
    },
    {
      "cell_type": "code",
      "source": [
        "help(choice)"
      ],
      "metadata": {
        "id": "fKv4W4PJXNOR",
        "colab": {
          "base_uri": "https://localhost:8080/"
        },
        "outputId": "f5b28e7e-fc55-402c-e27f-d03ee984e9b2"
      },
      "execution_count": 16,
      "outputs": [
        {
          "output_type": "stream",
          "name": "stdout",
          "text": [
            "Help on method choice in module random:\n",
            "\n",
            "choice(seq) method of random.Random instance\n",
            "    Choose a random element from a non-empty sequence.\n",
            "\n"
          ]
        }
      ]
    },
    {
      "cell_type": "code",
      "source": [
        "estudante = choice(estudantes_2)\n",
        "estudante"
      ],
      "metadata": {
        "id": "Pal_mZsFcV80",
        "colab": {
          "base_uri": "https://localhost:8080/",
          "height": 35
        },
        "outputId": "52103fa2-6787-4e47-c33f-79a728650533"
      },
      "execution_count": 19,
      "outputs": [
        {
          "output_type": "execute_result",
          "data": {
            "text/plain": [
              "'João'"
            ],
            "application/vnd.google.colaboratory.intrinsic+json": {
              "type": "string"
            }
          },
          "metadata": {},
          "execution_count": 19
        }
      ]
    },
    {
      "cell_type": "markdown",
      "source": [
        "## <font color=green> 2. FUNÇÕES\n",
        "---"
      ],
      "metadata": {
        "id": "2hrSPmlcBwWS"
      }
    },
    {
      "cell_type": "markdown",
      "source": [
        "Na linguagem Python, as **funções** são sequências de instruções que executam tarefas específicas, podendo ser reutilizadas em diferentes partes do código. Elas podem receber parâmetros de entrada (que podemos chamar de *inputs*) e também retornar resultados."
      ],
      "metadata": {
        "id": "gC4lHsW-DREY"
      }
    },
    {
      "cell_type": "markdown",
      "source": [
        "## 2.1 Built-in function\n",
        "\n",
        "O interpretador do Python já possui uma série de funções embutidas que podem ser invocadas a qualquer momento. Algumas que vamos utilizar ao longo desse curso são: type(), print(), list(), zip(), sum(), map() etc.\n",
        "\n",
        "***Documentação:***\n",
        "https://docs.python.org/pt-br/3/library/functions.html\n"
      ],
      "metadata": {
        "id": "Qr_h1_UNEzHZ"
      }
    },
    {
      "cell_type": "markdown",
      "source": [
        "#### **Situação 1:**\n",
        "\n",
        "A escola em que estamos construindo o nosso case de dados compartilhou os dados das notas de um estudante para que pudéssemos calcular a média deste em até uma casa decimal.\n",
        "\n",
        "Os dados recebidos correspondem a um dicionário com as chaves indicando o trimestre em questão e os valores das notas de cada trimestre do estudante em uma dada matéria."
      ],
      "metadata": {
        "id": "MMOJIW3TyLIB"
      }
    },
    {
      "cell_type": "code",
      "source": [
        "# Notas do(a) estudante\n",
        "notas = {'1º Trimestre': 8.5, '2º Trimestre': 7.5, '3º Trimestre': 9}\n",
        "notas"
      ],
      "metadata": {
        "colab": {
          "base_uri": "https://localhost:8080/"
        },
        "id": "kRAMC_KbI6U4",
        "outputId": "e1568706-15d0-4862-82f1-a370873f28aa"
      },
      "execution_count": 1,
      "outputs": [
        {
          "output_type": "execute_result",
          "data": {
            "text/plain": [
              "{'1º Trimestre': 8.5, '2º Trimestre': 7.5, '3º Trimestre': 9}"
            ]
          },
          "metadata": {},
          "execution_count": 1
        }
      ]
    },
    {
      "cell_type": "code",
      "source": [
        "# Calculando a soma\n",
        "soma = 0\n",
        "\n",
        "for nota in notas.values():\n",
        "  soma += nota\n",
        "\n",
        "soma"
      ],
      "metadata": {
        "id": "S7vIqSZJI6P4",
        "colab": {
          "base_uri": "https://localhost:8080/"
        },
        "outputId": "26f3e9f6-7df1-4709-8f54-cc7c0a6135e5"
      },
      "execution_count": 2,
      "outputs": [
        {
          "output_type": "execute_result",
          "data": {
            "text/plain": [
              "25.0"
            ]
          },
          "metadata": {},
          "execution_count": 2
        }
      ]
    },
    {
      "cell_type": "code",
      "source": [
        "# Usando a função embutida sum()\n",
        "somatorio = sum(notas.values())\n",
        "somatorio"
      ],
      "metadata": {
        "id": "yr9YSRwNPF9S",
        "colab": {
          "base_uri": "https://localhost:8080/"
        },
        "outputId": "4435bc8c-c0c2-4973-8546-fd1bc898e2b9"
      },
      "execution_count": 4,
      "outputs": [
        {
          "output_type": "execute_result",
          "data": {
            "text/plain": [
              "25.0"
            ]
          },
          "metadata": {},
          "execution_count": 4
        }
      ]
    },
    {
      "cell_type": "code",
      "source": [
        "# Usando a função embutida len()\n",
        "qtd_notas = len(notas)\n",
        "qtd_notas"
      ],
      "metadata": {
        "id": "Zn6XAAdQI6Fw",
        "colab": {
          "base_uri": "https://localhost:8080/"
        },
        "outputId": "0d0fc8b3-3e51-4a87-922b-aecd79058ec3"
      },
      "execution_count": 5,
      "outputs": [
        {
          "output_type": "execute_result",
          "data": {
            "text/plain": [
              "3"
            ]
          },
          "metadata": {},
          "execution_count": 5
        }
      ]
    },
    {
      "cell_type": "code",
      "source": [
        "# calculando a média\n",
        "media = somatorio / qtd_notas\n",
        "media"
      ],
      "metadata": {
        "id": "iUx5UixrNsQh",
        "colab": {
          "base_uri": "https://localhost:8080/"
        },
        "outputId": "3130e808-985d-4d0d-a1dd-024a99fef8c0"
      },
      "execution_count": 6,
      "outputs": [
        {
          "output_type": "execute_result",
          "data": {
            "text/plain": [
              "8.333333333333334"
            ]
          },
          "metadata": {},
          "execution_count": 6
        }
      ]
    },
    {
      "cell_type": "markdown",
      "source": [
        "*Arredondar a média usando round():*\n",
        "\n",
        "https://docs.python.org/pt-br/3/library/functions.html#round"
      ],
      "metadata": {
        "id": "JD2z3LW8312E"
      }
    },
    {
      "cell_type": "code",
      "source": [
        "#help(round)\n",
        "round?"
      ],
      "metadata": {
        "id": "OAZC5RwkSwWh"
      },
      "execution_count": 7,
      "outputs": []
    },
    {
      "cell_type": "code",
      "source": [
        "media = somatorio / qtd_notas\n",
        "media = round(media, 2)\n",
        "media"
      ],
      "metadata": {
        "id": "cJ1C2Pg-4PNq",
        "colab": {
          "base_uri": "https://localhost:8080/"
        },
        "outputId": "7a71353b-5023-429b-c232-0568fca78dc1"
      },
      "execution_count": 8,
      "outputs": [
        {
          "output_type": "execute_result",
          "data": {
            "text/plain": [
              "8.33"
            ]
          },
          "metadata": {},
          "execution_count": 8
        }
      ]
    },
    {
      "cell_type": "markdown",
      "source": [
        "## 2.2 Criando funções"
      ],
      "metadata": {
        "id": "NCUSezOJIdfy"
      }
    },
    {
      "cell_type": "markdown",
      "source": [
        "Depois de explorarmos a built-in functions e aprendermos como utilizar algumas delas, você pode se deparar com a necessidade de resolver um problema específico em que elas não serão o suficiente.\n",
        "\n",
        "Nesse ponto, precisaremos criar as nossas próprias funções, ainda mais se precisarmos utilizá-las em mais partes de nossos códigos."
      ],
      "metadata": {
        "id": "QrTAXwghsg6s"
      }
    },
    {
      "cell_type": "markdown",
      "source": [
        "### Funções sem parâmetros\n",
        "\n",
        "#### Formato padrão:\n",
        "\n",
        "```python\n",
        "def <nome>():\n",
        "  <instruções>\n",
        "```"
      ],
      "metadata": {
        "id": "zxyXiX462A_X"
      }
    },
    {
      "cell_type": "code",
      "source": [
        "def media():\n",
        "  calculo = (10+9+8) /3\n",
        "  print(calculo)"
      ],
      "metadata": {
        "id": "zQtsnpyCzHfb"
      },
      "execution_count": 9,
      "outputs": []
    },
    {
      "cell_type": "code",
      "source": [
        "media()"
      ],
      "metadata": {
        "id": "Eq4U8TPq0xOv",
        "colab": {
          "base_uri": "https://localhost:8080/"
        },
        "outputId": "588a14c3-0d65-4136-8dcc-5bf1be812e34"
      },
      "execution_count": 10,
      "outputs": [
        {
          "output_type": "stream",
          "name": "stdout",
          "text": [
            "9.0\n"
          ]
        }
      ]
    },
    {
      "cell_type": "markdown",
      "source": [
        "### Funções com parâmetros\n",
        "\n",
        "#### Formato padrão:\n",
        "\n",
        "```python\n",
        "def <nome>(<param_1>, <param_2>, ..., <param_n>):\n",
        "  <instruções>\n",
        "```"
      ],
      "metadata": {
        "id": "o9AR_DNDFKSD"
      }
    },
    {
      "cell_type": "code",
      "source": [
        "def media(nota_1, nota_2, nota_3):\n",
        "  calculo = (nota_1+nota_2+nota_3) /3\n",
        "  print(calculo)"
      ],
      "metadata": {
        "id": "zVIvbjeRDR24"
      },
      "execution_count": 11,
      "outputs": []
    },
    {
      "cell_type": "code",
      "source": [
        "media(3,6,9)"
      ],
      "metadata": {
        "id": "c6H9lfBn3FuA",
        "colab": {
          "base_uri": "https://localhost:8080/"
        },
        "outputId": "f0d03e5c-c1a8-4ecd-ff8f-5140732af3fc"
      },
      "execution_count": 12,
      "outputs": [
        {
          "output_type": "stream",
          "name": "stdout",
          "text": [
            "6.0\n"
          ]
        }
      ]
    },
    {
      "cell_type": "code",
      "source": [
        "nota1 = 8\n",
        "nota2 = 7\n",
        "nota3 = 6\n",
        "\n",
        "media(nota_1 = nota1, nota_2 = nota2, nota_3 = nota3)"
      ],
      "metadata": {
        "id": "38M9GYEVQp_x",
        "colab": {
          "base_uri": "https://localhost:8080/"
        },
        "outputId": "400092df-9a57-4704-b64e-48dfbdcb10e9"
      },
      "execution_count": 14,
      "outputs": [
        {
          "output_type": "stream",
          "name": "stdout",
          "text": [
            "7.0\n"
          ]
        }
      ]
    },
    {
      "cell_type": "markdown",
      "source": [
        "#### **Situação 2:**\n",
        "\n",
        "Recebemos uma demanda de calcular a média de um estudante a partir de uma lista, sendo possível alterar a quantidade de notas, sem impedir que o cálculo seja refeito.\n",
        "\n",
        "Os dados recebidos, desta vez, correspondem a uma lista contendo apenas as notas de um estudante em uma dada matéria.\n",
        "\n",
        "**Vamos resolver esse desafio?**\n",
        "\n",
        "Para facilitar o nosso entendimento do processo vamos aplicar às notas de apenas um estudante, mas você pode testar outros casos para treinar."
      ],
      "metadata": {
        "id": "-Umx7n134suz"
      }
    },
    {
      "cell_type": "code",
      "source": [
        "# Notas do(a) estudante\n",
        "notas = [8.5, 9.0, 6.0, 10.0]"
      ],
      "metadata": {
        "id": "9AiWnXLuzc1P"
      },
      "execution_count": 15,
      "outputs": []
    },
    {
      "cell_type": "code",
      "source": [
        "def media(lista):\n",
        "  calculo = sum(lista) / len(lista)\n",
        "  print(calculo)"
      ],
      "metadata": {
        "id": "bEf8Evf1DR0I"
      },
      "execution_count": 16,
      "outputs": []
    },
    {
      "cell_type": "code",
      "source": [
        "media(notas)"
      ],
      "metadata": {
        "id": "R5ylO_vW6k8C",
        "colab": {
          "base_uri": "https://localhost:8080/"
        },
        "outputId": "652c425a-1fcf-4bd7-af53-ab69b09e9996"
      },
      "execution_count": 17,
      "outputs": [
        {
          "output_type": "stream",
          "name": "stdout",
          "text": [
            "8.375\n"
          ]
        }
      ]
    },
    {
      "cell_type": "code",
      "source": [
        "resultado = media(notas)"
      ],
      "metadata": {
        "id": "9wNMcPOK_T9F",
        "colab": {
          "base_uri": "https://localhost:8080/"
        },
        "outputId": "a6854a40-a15f-465a-84e0-bc9f104e364b"
      },
      "execution_count": 18,
      "outputs": [
        {
          "output_type": "stream",
          "name": "stdout",
          "text": [
            "8.375\n"
          ]
        }
      ]
    },
    {
      "cell_type": "code",
      "source": [
        "resultado"
      ],
      "metadata": {
        "id": "4xnmTQ9w_ZTi"
      },
      "execution_count": 19,
      "outputs": []
    },
    {
      "cell_type": "code",
      "source": [
        "type(resultado)"
      ],
      "metadata": {
        "id": "x6m24TcG_W3w",
        "colab": {
          "base_uri": "https://localhost:8080/"
        },
        "outputId": "7ee120f2-d564-45cf-cb5b-c320fc25188e"
      },
      "execution_count": 20,
      "outputs": [
        {
          "output_type": "execute_result",
          "data": {
            "text/plain": [
              "NoneType"
            ]
          },
          "metadata": {},
          "execution_count": 20
        }
      ]
    },
    {
      "cell_type": "markdown",
      "source": [
        "<font color=red>**Atenção!**</font>\n",
        "Quando utilizamos funções precisamos prestar atenção a uma propriedade chamada **escopo de uma função**\n",
        "\n",
        "Ela determina onde uma variável pode ser utilizada dentro do código. Por exemplo, uma variável criada dentro de uma função existirá apenas dentro da função. Ou seja, encerrando a execução da função, a variável não estará disponível para o usuário no restante do código."
      ],
      "metadata": {
        "id": "skMq7d0_xHND"
      }
    },
    {
      "cell_type": "code",
      "source": [
        "calculo"
      ],
      "metadata": {
        "id": "5FBWT2_gzIzR",
        "colab": {
          "base_uri": "https://localhost:8080/",
          "height": 141
        },
        "outputId": "c5b5b00b-3d04-4445-fc56-14b28c00498c"
      },
      "execution_count": 21,
      "outputs": [
        {
          "output_type": "error",
          "ename": "NameError",
          "evalue": "name 'calculo' is not defined",
          "traceback": [
            "\u001b[0;31m---------------------------------------------------------------------------\u001b[0m",
            "\u001b[0;31mNameError\u001b[0m                                 Traceback (most recent call last)",
            "\u001b[0;32m<ipython-input-21-358730cc7909>\u001b[0m in \u001b[0;36m<cell line: 1>\u001b[0;34m()\u001b[0m\n\u001b[0;32m----> 1\u001b[0;31m \u001b[0mcalculo\u001b[0m\u001b[0;34m\u001b[0m\u001b[0;34m\u001b[0m\u001b[0m\n\u001b[0m",
            "\u001b[0;31mNameError\u001b[0m: name 'calculo' is not defined"
          ]
        }
      ]
    },
    {
      "cell_type": "markdown",
      "source": [
        "## 2.3 Funções que retornam valores\n",
        "\n",
        "#### Formato padrão:\n",
        "\n",
        "```python\n",
        "def <nome>(<param_1>, <param_2>, ..., <param_n>):\n",
        "  <instruções>\n",
        "  return resultado\n",
        "```"
      ],
      "metadata": {
        "id": "-oDFGKcA52kG"
      }
    },
    {
      "cell_type": "markdown",
      "source": [
        "Retomando a atividade anterior, podemos retornar e salvar o valor da média da seguinte forma:"
      ],
      "metadata": {
        "id": "DxvT_uItbQ-q"
      }
    },
    {
      "cell_type": "code",
      "source": [
        "# Notas do(a) estudante\n",
        "notas = [8.5, 9.0, 6.0, 10.0]"
      ],
      "metadata": {
        "id": "GlWdnX7Ubgl3"
      },
      "execution_count": 22,
      "outputs": []
    },
    {
      "cell_type": "code",
      "source": [
        "def media(lista):\n",
        "  calculo = sum(lista) / len(lista)\n",
        "  return calculo"
      ],
      "metadata": {
        "id": "B6yqoM7KAKKK"
      },
      "execution_count": 23,
      "outputs": []
    },
    {
      "cell_type": "code",
      "source": [
        "resultado = media(notas)"
      ],
      "metadata": {
        "id": "GlqPKe3_AT0Q"
      },
      "execution_count": 24,
      "outputs": []
    },
    {
      "cell_type": "code",
      "source": [
        "resultado"
      ],
      "metadata": {
        "id": "E81HZh8rAYJz",
        "colab": {
          "base_uri": "https://localhost:8080/"
        },
        "outputId": "8f4b2b1f-60ff-4214-f61d-f8dfd15c5cb1"
      },
      "execution_count": 25,
      "outputs": [
        {
          "output_type": "execute_result",
          "data": {
            "text/plain": [
              "8.375"
            ]
          },
          "metadata": {},
          "execution_count": 25
        }
      ]
    },
    {
      "cell_type": "markdown",
      "source": [
        "#### **Situação 3:**\n",
        "\n",
        "Recebemos uma nova demanda, desta vez, de calcular a média de um estudante a partir de uma lista e retornar tanto a média quanto a situação do estudante (\"Aprovado(a)\" se a nota for maior ou igual a 6.0, caso contrário, será \"Reprovado(a)\").\n",
        "\n",
        "Além disso, precisamos exibir um pequeno texto em que indicamos a média do(a) estudante e qual a situação. Os dados recebidos correspondem a uma lista contendo apenas as notas de um estudante em uma dada matéria.\n",
        "\n",
        "**Vamos resolver esse desafio?**\n",
        "\n",
        "Para facilitar o nosso entendimento do processo vamos aplicar as notas de apenas um estudante, mas você pode testar outros casos para treinar."
      ],
      "metadata": {
        "id": "_awyOKOH8OOi"
      }
    },
    {
      "cell_type": "code",
      "source": [
        "# Notas do(a) estudante\n",
        "notas = [6.0, 7.0, 9.0, 5.0]"
      ],
      "metadata": {
        "id": "8LmWZ2U9-Zv3"
      },
      "execution_count": 26,
      "outputs": []
    },
    {
      "cell_type": "code",
      "source": [
        "def boletim(lista):\n",
        "  media = sum(lista) / len(lista)\n",
        "  if media >= 6:\n",
        "    situacao = \"Aprovado(a)\"\n",
        "  else:\n",
        "    situacao = \"Reprovado(a)\"\n",
        "\n",
        "  return (media, situacao)"
      ],
      "metadata": {
        "id": "bJ9KmlHv5o0i"
      },
      "execution_count": 27,
      "outputs": []
    },
    {
      "cell_type": "code",
      "source": [
        "boletim(notas)"
      ],
      "metadata": {
        "id": "rIiA2cpB-squ",
        "colab": {
          "base_uri": "https://localhost:8080/"
        },
        "outputId": "35df7fcc-74cb-47fb-e283-69822cb17a23"
      },
      "execution_count": 28,
      "outputs": [
        {
          "output_type": "execute_result",
          "data": {
            "text/plain": [
              "(6.75, 'Aprovado(a)')"
            ]
          },
          "metadata": {},
          "execution_count": 28
        }
      ]
    },
    {
      "cell_type": "code",
      "source": [
        "media, situacao = boletim(notas)"
      ],
      "metadata": {
        "id": "_xf7bR6JBjD8"
      },
      "execution_count": 29,
      "outputs": []
    },
    {
      "cell_type": "code",
      "source": [
        "media"
      ],
      "metadata": {
        "id": "5ixwo3o3CdQ0",
        "colab": {
          "base_uri": "https://localhost:8080/"
        },
        "outputId": "7bb20fc6-319e-4d2f-f815-da61bd79719a"
      },
      "execution_count": 30,
      "outputs": [
        {
          "output_type": "execute_result",
          "data": {
            "text/plain": [
              "6.75"
            ]
          },
          "metadata": {},
          "execution_count": 30
        }
      ]
    },
    {
      "cell_type": "code",
      "source": [
        "situacao"
      ],
      "metadata": {
        "id": "VFQacFSICeaO",
        "colab": {
          "base_uri": "https://localhost:8080/",
          "height": 35
        },
        "outputId": "d5579516-f276-4ab7-ca10-7b900515fdf4"
      },
      "execution_count": 31,
      "outputs": [
        {
          "output_type": "execute_result",
          "data": {
            "text/plain": [
              "'Aprovado(a)'"
            ],
            "application/vnd.google.colaboratory.intrinsic+json": {
              "type": "string"
            }
          },
          "metadata": {},
          "execution_count": 31
        }
      ]
    },
    {
      "cell_type": "code",
      "source": [
        "print(f'O(a) estudante atingiu uma média de {media} e foi {situacao}.')"
      ],
      "metadata": {
        "id": "ecFviUvOCgXF",
        "colab": {
          "base_uri": "https://localhost:8080/"
        },
        "outputId": "a2a92d2d-d5a6-4d78-9314-9ed6067237f7"
      },
      "execution_count": 32,
      "outputs": [
        {
          "output_type": "stream",
          "name": "stdout",
          "text": [
            "O(a) estudante atingiu uma média de 6.75 e foi Aprovado(a).\n"
          ]
        }
      ]
    },
    {
      "cell_type": "markdown",
      "source": [
        "# Type Hint\n",
        "\n",
        "O [Type Hint](https://docs.python.org/pt-br/3/library/typing.html) é uma sintaxe utilizada no Python para indicar o tipo de dado esperado de um parâmetro ou retorno de função, auxiliando na legibilidade e manutenção do código. Podemos dizer, em poucas palavras, que ela é a dica de tipagem dos dados. Formato:\n",
        "\n",
        "```python\n",
        "def <nome>(<param>: <tipo_param>) -> <tipo_retorno>:\n",
        "  <instruções>\n",
        "  return resultado\n",
        "```\n",
        "\n",
        "Trazendo para o nosso exemplo da função **media()**, podemos utilizar o type hint da seguinte forma:\n",
        "\n",
        "```python\n",
        "# a nossa função recebe uma lista do tipo list e retorna uma variável do tipo float\n",
        "def media(lista: list) -> float:\n",
        "  calculo = sum(lista) / len(lista)\n",
        "  return calculo\n",
        "```\n",
        "\n",
        "Se escrevermos a função **media()** em outra célula e passarmos o mouse por cima, podemos observar a seguinte imagem apontando as dicas de tipagem dos parâmetros de entrada e retorno da função:\n",
        "\n",
        "![Aula02-img01.png](data:image/png;base64,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)"
      ],
      "metadata": {
        "id": "7sUESw-jeEwV"
      }
    },
    {
      "cell_type": "markdown",
      "source": [
        "# Default value\n",
        "No Python, o Default Value é um valor padrão atribuído a um argumento de função que é utilizado caso nenhum valor seja passado pelo usuário. Formato:\n",
        "\n",
        "```python\n",
        "  <nome_variavel>: <tipo_variavel> = <valor_variavel>\n",
        "```\n",
        "Implementando ainda mais a nossa função **media()**, podemos utilizar o default value da seguinte forma:\n",
        "\n",
        "```python\n",
        "# a nossa função recebe uma lista do tipo list e retorna uma variável do tipo float\n",
        "# caso não recebe nenhum valor de parâmetro será passada uma lista com um único\n",
        "# elemento sendo ele zero\n",
        "def media(lista: list=[0]) -> float:\n",
        "  calculo = sum(lista) / len(lista)\n",
        "  return calculo\n",
        "```\n",
        "Da mesma forma que fizemos no type hint, se escrevermos a função **media()** em outra célula e passarmos o mouse por cima, podemos observar o que está na imagem abaixo. Nela temos apontado tanto as dicas de tipagem dos parâmetros de entrada e retorno da função, quanto o valor padrão para nossa lista, caso a pessoa usuária não passe nenhum valor na execução.\n",
        "\n",
        " ![Aula02-img02.png](data:image/png;base64,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)\n",
        "\n",
        " Se executarmos a função média, essa será a saída:\n",
        "\n",
        "Saída:\n",
        "```python\n",
        "0.0\n",
        "```"
      ],
      "metadata": {
        "id": "EdhI8EAre5fq"
      }
    },
    {
      "cell_type": "markdown",
      "source": [
        "# Docstring\n",
        "\n",
        "Por fim, temos o [Docstring](https://peps.python.org/pep-0257/#what-is-a-docstring) que é uma string literal usada para documentar módulo, função, classe ou método em Python. Ela é colocada como o primeiro item de definição e pode ser acessada usando a função help().\n",
        "\n",
        "O Docstring deve descrever propósito, parâmetros, tipo de retorno e exceções levantadas pela função. É uma boa prática de programação utilizar Docstrings em seu código para facilitar a leitura, manutenção e compartilhamento do código com outras pessoas desenvolvedoras.\n",
        "\n",
        "Formato:\n",
        "\n",
        "```python\n",
        "def <nome>(<param_1>, <param_2>, ..., <param_n>):\n",
        "    ''' Texto documentando sua função...\n",
        "    '''\n",
        "  <instruções>\n",
        "  return resultado\n",
        "\n",
        "```\n",
        "Concluindo a implementação da nossa função **media()**, podemos utilizar o docstring da seguinte forma:\n",
        "\n",
        "```python\n",
        "def media(lista: list=[0]) -> float:\n",
        "  ''' Função para calcular a média de notas passadas por uma lista\n",
        "\n",
        "  lista: list, default [0]\n",
        "    Lista com as notas para calcular a média\n",
        "  return = calculo: float\n",
        "    Média calculada\n",
        "  '''\n",
        "  calculo = sum(lista) / len(lista)\n",
        "  return calculo\n",
        "```\n",
        "Se executarmos o código **help(media)** em uma outra célula, temos a seguinte saída:\n",
        "\n",
        "```python\n",
        "Help on function media in module __main__:\n",
        "\n",
        "media(lista: list = [0]) -> float\n",
        "    Função para calcular a média de notas passadas por uma lista\n",
        "    \n",
        "    lista: list, default [0]\n",
        "      Lista com as notas para calcular a média\n",
        "    return = calculo: float\n",
        "      Média calculada\n",
        "```"
      ],
      "metadata": {
        "id": "q6MMSNeKfsNI"
      }
    },
    {
      "cell_type": "markdown",
      "source": [
        "## 2.4 Funções lambda\n",
        "\n",
        "Também chamadas de funções anônimas, são funções que não precisam ser definidas, ou seja não possuem um nome, e descrevem em uma única linha os comandos que desejamos aplicar.\n",
        "\n",
        "https://docs.python.org/pt-br/3/reference/expressions.html?#lambda\n",
        "\n",
        "#### Formato padrão:\n",
        "\n",
        "```python\n",
        "lambda <variavel>: <expressao>\n",
        "```"
      ],
      "metadata": {
        "id": "hwYYRpkZMft5"
      }
    },
    {
      "cell_type": "markdown",
      "source": [
        "#### **Situação 4:**\n",
        "\n",
        "Nesta nova demanda, precisamos criar uma calculadora simples da média ponderada de notas de uma dada matéria. Vamos requisitar ao usuário a entrada das 3 notas (N1, N2, N3) do estudante e devolver a média ponderada deste estudante. Os pesos das notas são de, respectivamente 3, 2, 5.\n",
        "\n",
        "Precisamos exibir um pequeno texto em que indicamos a média do(a) estudante.\n",
        "\n",
        "**Vamos resolver esse desafio?**"
      ],
      "metadata": {
        "id": "AuRWyNXYgD_b"
      }
    },
    {
      "cell_type": "code",
      "source": [
        "# Comparando uma função de qualitativo no formato de função para função anônima\n",
        "nota = float(input(\"Digite a nota do(a) estudante:\"))\n",
        "\n",
        "def qualitativo(x):\n",
        "  return x+0.5\n",
        "\n",
        "qualitativo(nota)"
      ],
      "metadata": {
        "id": "4EjJD3w3lbzJ",
        "colab": {
          "base_uri": "https://localhost:8080/"
        },
        "outputId": "28d4648f-42a8-4cec-d38e-14102486429b"
      },
      "execution_count": 33,
      "outputs": [
        {
          "name": "stdout",
          "output_type": "stream",
          "text": [
            "Digite a nota do(a) estudante:8\n"
          ]
        },
        {
          "output_type": "execute_result",
          "data": {
            "text/plain": [
              "8.5"
            ]
          },
          "metadata": {},
          "execution_count": 33
        }
      ]
    },
    {
      "cell_type": "code",
      "source": [
        "# Testando a mesma função para uma função lambda\n",
        "nota = float(input(\"Digite a nota do(a) estudante: \"))\n",
        "\n",
        "qualitativo = lambda x: x + 0.5\n",
        "\n",
        "qualitativo(nota)\n"
      ],
      "metadata": {
        "id": "vZjaUmaJFp3D",
        "colab": {
          "base_uri": "https://localhost:8080/"
        },
        "outputId": "68a690ca-427f-464c-984e-30dd877d4757"
      },
      "execution_count": 34,
      "outputs": [
        {
          "name": "stdout",
          "output_type": "stream",
          "text": [
            "Digite a nota do(a) estudante: 8\n"
          ]
        },
        {
          "output_type": "execute_result",
          "data": {
            "text/plain": [
              "8.5"
            ]
          },
          "metadata": {},
          "execution_count": 34
        }
      ]
    },
    {
      "cell_type": "markdown",
      "source": [
        "**Partindo para nosso problema:**"
      ],
      "metadata": {
        "id": "vdKk3DRBmtUE"
      }
    },
    {
      "cell_type": "code",
      "source": [
        "# Recebendo as notas e calculando a média ponderável\n",
        "N1 = float(input(\"Digite a 1ª nota do(a) estudante: \"))\n",
        "N2 = float(input(\"Digite a 2ª nota do(a) estudante: \"))\n",
        "N3 = float(input(\"Digite a 3ª nota do(a) estudante: \"))\n",
        "\n",
        "media_ponderavel = lambda x, y, z:(x*3 + y*2 + z*5) / (3+2+5)\n",
        "media_estudante = media_ponderavel(N1, N2, N3)\n",
        "media_estudante"
      ],
      "metadata": {
        "colab": {
          "base_uri": "https://localhost:8080/"
        },
        "id": "azStYQgKnsZn",
        "outputId": "97559046-be69-410f-9b92-6ccd77bae026"
      },
      "execution_count": 37,
      "outputs": [
        {
          "name": "stdout",
          "output_type": "stream",
          "text": [
            "Digite a 1ª nota do(a) estudante: 8\n",
            "Digite a 2ª nota do(a) estudante: 7\n",
            "Digite a 3ª nota do(a) estudante: 4\n"
          ]
        },
        {
          "output_type": "execute_result",
          "data": {
            "text/plain": [
              "5.8"
            ]
          },
          "metadata": {},
          "execution_count": 37
        }
      ]
    },
    {
      "cell_type": "code",
      "source": [
        "# Exibindo a média\n",
        "print(f'O(a) estudante atingiu uma média de {media_estudante}')"
      ],
      "metadata": {
        "id": "Ek1s_FkjkQrW",
        "colab": {
          "base_uri": "https://localhost:8080/"
        },
        "outputId": "2a37e3d7-fbdd-4320-cff5-4f982bc036d7"
      },
      "execution_count": 36,
      "outputs": [
        {
          "output_type": "stream",
          "name": "stdout",
          "text": [
            "O(a) estudante atingiu uma média de 5.8\n"
          ]
        }
      ]
    },
    {
      "cell_type": "markdown",
      "source": [
        "### Mapeando valores\n",
        "\n",
        "#### Formato padrão:\n",
        "\n",
        "```python\n",
        "map(<lambda function>, <iterador>)\n",
        "```"
      ],
      "metadata": {
        "id": "SOK4BC4mmKbG"
      }
    },
    {
      "cell_type": "markdown",
      "source": [
        "#### **Situação 5:**\n",
        "\n",
        "Recebemos mais uma demanda, desta vez, para criar uma pequena função que pudesse adicionar qualitativo (pontuação extra) às notas do trimestre dos estudantes da turma que ganhou a gincana de programação promovida pela escola. Cada estudante receberá o qualitativo de 0.5 acrescido à média.\n",
        "\n",
        "Os dados recebidos correspondem a uma lista contendo as notas de alguns estudantes e uma variável com o qualitativo recebido.\n",
        "\n",
        "**Vamos resolver esse desafio?**\n",
        "\n",
        "Para facilitar o nosso entendimento do processo vamos aplicar o qualitativo às notas de 5 estudantes, mas você pode testar outros casos para treinar."
      ],
      "metadata": {
        "id": "1qk0gLdfFcbf"
      }
    },
    {
      "cell_type": "code",
      "source": [
        "# Notas do(a) estudante\n",
        "notas = [6.0, 7.0, 9.0, 5.5, 8.0]\n",
        "qualitativo = 0.5"
      ],
      "metadata": {
        "id": "RdoaWhuVI_OB"
      },
      "execution_count": 38,
      "outputs": []
    },
    {
      "cell_type": "code",
      "source": [
        "notas_atualizadas = lambda x: x + qualitativo\n",
        "notas_atualizadas(notas)"
      ],
      "metadata": {
        "id": "nC6zW89lHI4K",
        "colab": {
          "base_uri": "https://localhost:8080/",
          "height": 228
        },
        "outputId": "e0d8a23f-ad75-4a58-bd1c-6120516589ad"
      },
      "execution_count": 39,
      "outputs": [
        {
          "output_type": "error",
          "ename": "TypeError",
          "evalue": "can only concatenate list (not \"float\") to list",
          "traceback": [
            "\u001b[0;31m---------------------------------------------------------------------------\u001b[0m",
            "\u001b[0;31mTypeError\u001b[0m                                 Traceback (most recent call last)",
            "\u001b[0;32m<ipython-input-39-42b2d9bbd856>\u001b[0m in \u001b[0;36m<cell line: 2>\u001b[0;34m()\u001b[0m\n\u001b[1;32m      1\u001b[0m \u001b[0mnotas_atualizadas\u001b[0m \u001b[0;34m=\u001b[0m \u001b[0;32mlambda\u001b[0m \u001b[0mx\u001b[0m\u001b[0;34m:\u001b[0m \u001b[0mx\u001b[0m \u001b[0;34m+\u001b[0m \u001b[0mqualitativo\u001b[0m\u001b[0;34m\u001b[0m\u001b[0;34m\u001b[0m\u001b[0m\n\u001b[0;32m----> 2\u001b[0;31m \u001b[0mnotas_atualizadas\u001b[0m\u001b[0;34m(\u001b[0m\u001b[0mnotas\u001b[0m\u001b[0;34m)\u001b[0m\u001b[0;34m\u001b[0m\u001b[0;34m\u001b[0m\u001b[0m\n\u001b[0m",
            "\u001b[0;32m<ipython-input-39-42b2d9bbd856>\u001b[0m in \u001b[0;36m<lambda>\u001b[0;34m(x)\u001b[0m\n\u001b[0;32m----> 1\u001b[0;31m \u001b[0mnotas_atualizadas\u001b[0m \u001b[0;34m=\u001b[0m \u001b[0;32mlambda\u001b[0m \u001b[0mx\u001b[0m\u001b[0;34m:\u001b[0m \u001b[0mx\u001b[0m \u001b[0;34m+\u001b[0m \u001b[0mqualitativo\u001b[0m\u001b[0;34m\u001b[0m\u001b[0;34m\u001b[0m\u001b[0m\n\u001b[0m\u001b[1;32m      2\u001b[0m \u001b[0mnotas_atualizadas\u001b[0m\u001b[0;34m(\u001b[0m\u001b[0mnotas\u001b[0m\u001b[0;34m)\u001b[0m\u001b[0;34m\u001b[0m\u001b[0;34m\u001b[0m\u001b[0m\n",
            "\u001b[0;31mTypeError\u001b[0m: can only concatenate list (not \"float\") to list"
          ]
        }
      ]
    },
    {
      "cell_type": "code",
      "source": [
        "# Não conseguimos aplicar o lambda em listas direto, é necessário\n",
        "# utilizarmos junto a ela a função map\n",
        "notas_atualizadas = map (lambda x: x + qualitativo, notas)\n",
        "notas_atualizadas"
      ],
      "metadata": {
        "id": "iM2jXtC8m1zc",
        "colab": {
          "base_uri": "https://localhost:8080/"
        },
        "outputId": "9f65b046-190b-47c4-ed70-434a0c884617"
      },
      "execution_count": 40,
      "outputs": [
        {
          "output_type": "execute_result",
          "data": {
            "text/plain": [
              "<map at 0x7cf8c1539ff0>"
            ]
          },
          "metadata": {},
          "execution_count": 40
        }
      ]
    },
    {
      "cell_type": "code",
      "source": [
        "notas_atualizadas = list(notas_atualizadas)\n",
        "notas_atualizadas"
      ],
      "metadata": {
        "id": "dAq9-TNTm1wf",
        "colab": {
          "base_uri": "https://localhost:8080/"
        },
        "outputId": "77b2a410-e8cc-465e-c775-a54d7b21b43d"
      },
      "execution_count": 41,
      "outputs": [
        {
          "output_type": "execute_result",
          "data": {
            "text/plain": [
              "[6.5, 7.5, 9.5, 6.0, 8.5]"
            ]
          },
          "metadata": {},
          "execution_count": 41
        }
      ]
    },
    {
      "cell_type": "markdown",
      "source": [
        "## <font color=green> 3. ESTRUTURA DE DADOS COMPOSTAS\n",
        "---"
      ],
      "metadata": {
        "id": "DoB6wf2JCYf7"
      }
    },
    {
      "cell_type": "markdown",
      "source": [
        "## 3.1 Estruturas aninhadas\n",
        "\n",
        "Aprendemos anteriormente a manipular listas, tuplas e dicionários para trabalhar com uma sequência ou coleção de valores sejam numéricos, categóricos, etc. Nessa aula, vamos aprofundar em outra situação comum para a pessoa cientista de dados que é trabalhar com esses tipos de estruturas aninhadas, ou seja, quando possuímos por exemplo listas dentro de uma lista."
      ],
      "metadata": {
        "id": "3or6MbnZDW_b"
      }
    },
    {
      "cell_type": "markdown",
      "source": [
        "### Lista de listas\n",
        "\n",
        "#### Formato padrão:\n",
        "\n",
        "```python\n",
        "[[a1, a2,...,an], [b1, b2,...,bn], ..., [n1, n2,...,nn]]\n",
        "```"
      ],
      "metadata": {
        "id": "fddus1G9HqB3"
      }
    },
    {
      "cell_type": "markdown",
      "source": [
        "#### **Situação 6:**\n",
        "\n",
        "Recebemos a demanda de transformar uma lista com o nome e as notas dos três trimestres de estudantes em uma lista simples com os nomes separados das notas e uma lista de listas com as três notas de cada estudante separadas umas das outras. Os dados recebidos correspondem a uma lista com os nomes e as respectivas notas de cada estudante.\n",
        "\n",
        "**Vamos resolver esse desafio?**\n",
        "\n",
        "Para facilitar o nosso entendimento do processo vamos trabalhar com uma turma fictícia de 5 estudantes.\n"
      ],
      "metadata": {
        "id": "32K5LA11tFpz"
      }
    },
    {
      "cell_type": "code",
      "source": [
        "notas_turma = ['João', 8.0, 9.0, 10.0, 'Maria', 9.0, 7.0, 6.0, 'José', 3.4, 7.0, 7.0, 'Cláudia', 5.5, 6.6, 8.0, 'Ana', 6.0, 10.0, 9.5]"
      ],
      "metadata": {
        "id": "jlEP-c2YthpB"
      },
      "execution_count": null,
      "outputs": []
    },
    {
      "cell_type": "code",
      "source": [],
      "metadata": {
        "id": "xP1H4Kw6uJTe"
      },
      "execution_count": null,
      "outputs": []
    },
    {
      "cell_type": "code",
      "source": [],
      "metadata": {
        "id": "pelnQlo-v4l3"
      },
      "execution_count": null,
      "outputs": []
    },
    {
      "cell_type": "code",
      "source": [],
      "metadata": {
        "id": "61NkIzLvxXFa"
      },
      "execution_count": null,
      "outputs": []
    },
    {
      "cell_type": "code",
      "source": [],
      "metadata": {
        "id": "eL-y49GmPpjN"
      },
      "execution_count": null,
      "outputs": []
    },
    {
      "cell_type": "code",
      "source": [],
      "metadata": {
        "id": "awqddIuGFf-k"
      },
      "execution_count": null,
      "outputs": []
    },
    {
      "cell_type": "code",
      "source": [],
      "metadata": {
        "id": "PlDKPeCLDXU7"
      },
      "execution_count": null,
      "outputs": []
    },
    {
      "cell_type": "markdown",
      "source": [
        "### Lista de tuplas\n",
        "\n",
        "#### Formato padrão:\n",
        "\n",
        "```python\n",
        "[(a1, a2,...,an), (b1, b2,...,bn), ..., (n1, n2,...,nn)]\n",
        "```"
      ],
      "metadata": {
        "id": "SW0sVg68sK_z"
      }
    },
    {
      "cell_type": "markdown",
      "source": [
        "#### **Situação 7:**\n",
        "\n",
        "Nesta nova demanda, precisamos gerar uma lista de tuplas com os nomes dos estudantes e o código ID de cada um para a plataforma de análise dos dados. A criação do código consiste em concatenar a primeira letra do nome do estudante a um número aleatório de 0 a 999. Os dados recebidos correspondem a uma lista dos nomes de cada estudante.\n",
        "\n",
        "**Vamos resolver esse desafio?**\n",
        "\n",
        "Para facilitar o nosso entendimento do processo vamos trabalhar com uma turma fictícia de 5 estudantes.\n"
      ],
      "metadata": {
        "id": "OId6jAZz5x2m"
      }
    },
    {
      "cell_type": "code",
      "source": [
        "estudantes = [\"João\", \"Maria\", \"José\", \"Cláudia\", \"Ana\"]\n",
        "estudantes"
      ],
      "metadata": {
        "id": "aRB0zQ2_6aa9"
      },
      "execution_count": null,
      "outputs": []
    },
    {
      "cell_type": "code",
      "source": [
        "from random import randint\n",
        "\n",
        "def gera_codigo():\n",
        "  return str(randint(0,999))"
      ],
      "metadata": {
        "id": "wFHkckyg6aa-"
      },
      "execution_count": null,
      "outputs": []
    },
    {
      "cell_type": "code",
      "source": [],
      "metadata": {
        "id": "tZItNHeo6aa-"
      },
      "execution_count": null,
      "outputs": []
    },
    {
      "cell_type": "markdown",
      "source": [
        "## 3.2 List comprehension\n",
        "\n",
        "É uma forma simples e concisa de criar uma lista. Podemos aplicar condicionais e laços para criar diversos tipos de listas a partir de padrões que desejamos para a nossa estrutura de dados.\n",
        "\n",
        "https://docs.python.org/pt-br/3/tutorial/datastructures.html?#list-comprehensions\n",
        "\n",
        "#### Formato padrão:\n",
        "\n",
        "```python\n",
        "[exressão for item in lista]\n",
        "```"
      ],
      "metadata": {
        "id": "srHAov19QCdb"
      }
    },
    {
      "cell_type": "markdown",
      "source": [
        "#### **Situação 8:**\n",
        "\n",
        "Recebemos a demanda de criar uma lista com as médias dos estudantes da lista de listas que criamos na Situação 6. Lembrando que cada lista da lista de listas possui as três notas de cada estudante.\n",
        "\n",
        "**Vamos resolver esse desafio?**\n",
        "\n",
        "**Dica:** Utilize o formato:\n",
        "```python\n",
        "[exressão for item in lista]\n",
        "```"
      ],
      "metadata": {
        "id": "l4HW0gDqecgM"
      }
    },
    {
      "cell_type": "code",
      "source": [
        "notas = [[8.0, 9.0, 10.0], [9.0, 7.0, 6.0], [3.4, 7.0, 7.0], [5.5, 6.6, 8.0], [6.0, 10.0, 9.5]]"
      ],
      "metadata": {
        "id": "RR5D3LvYAOUd"
      },
      "execution_count": null,
      "outputs": []
    },
    {
      "cell_type": "code",
      "source": [
        "def media(lista: list=[0]) -> float:\n",
        "  ''' Função para calcular a média de notas passadas por uma lista\n",
        "\n",
        "  lista: list, default [0]\n",
        "    Lista com as notas para calcular a média\n",
        "  return = calculo: float\n",
        "    Média calculada\n",
        "  '''\n",
        "\n",
        "  calculo = sum(lista) / len(lista)\n",
        "\n",
        "  return calculo"
      ],
      "metadata": {
        "id": "J_atQRQdlpNe"
      },
      "execution_count": null,
      "outputs": []
    },
    {
      "cell_type": "code",
      "source": [],
      "metadata": {
        "id": "G5CQqPkzQWT0"
      },
      "execution_count": null,
      "outputs": []
    },
    {
      "cell_type": "markdown",
      "source": [
        "#### **Situação 9:**\n",
        "\n",
        "Agora, precisamos utilizar as médias calculadas no exemplo anterior, pareando com o nome dos estudantes. Isto será necessário para gerar uma lista que selecione aqueles estudantes que possuam uma média final maior ou igual a 8 para concorrer a uma bolsa para o próximo ano letivo. Os dados recebidos correspondem a uma lista de tuplas com os nomes e códigos dos estudantes e a lista de médias calculadas logo acima.\n",
        "\n",
        "**Vamos resolver esse desafio?**\n",
        "\n",
        "Para facilitar o nosso entendimento do processo vamos trabalhar com uma turma fictícia de 5 estudantes.\n",
        "\n",
        "**Dica:** Utilize o formato:\n",
        "```python\n",
        "[expr for item in lista if cond]\n",
        "```\n"
      ],
      "metadata": {
        "id": "ApLjXlAdhJKd"
      }
    },
    {
      "cell_type": "code",
      "source": [
        "nomes = [('João', 'J720'), ('Maria', 'M205'), ('José', 'J371'), ('Cláudia', 'C546'), ('Ana', 'A347')]\n",
        "medias = [9.0, 7.3, 5.8, 6.7, 8.5]"
      ],
      "metadata": {
        "id": "WhXegkP5DDMW"
      },
      "execution_count": null,
      "outputs": []
    },
    {
      "cell_type": "code",
      "source": [
        "# Gerando a lista de nomes (extraindo da tupla)\n"
      ],
      "metadata": {
        "id": "Lvfr10SIDSDN"
      },
      "execution_count": null,
      "outputs": []
    },
    {
      "cell_type": "markdown",
      "source": [
        "<font color=green>**Dica:**</font> Para conseguirmos parear as médias e nomes facilmente, podemos recorrer a mais uma built-in function: `zip()`\n",
        "\n",
        "Ela recebe um ou mais iteráveis (lista, string, dict, etc.) e retorna-os como um iterador de tuplas onde cada elemento dos iteráveis são pareados."
      ],
      "metadata": {
        "id": "U6KAABs7Dfpe"
      }
    },
    {
      "cell_type": "code",
      "source": [],
      "metadata": {
        "id": "TRqn0wMUg3s7"
      },
      "execution_count": null,
      "outputs": []
    },
    {
      "cell_type": "code",
      "source": [
        "# Gerando a lista de pessoas candidatas a bolsa\n"
      ],
      "metadata": {
        "id": "T1ocZ1G0g3qC"
      },
      "execution_count": null,
      "outputs": []
    },
    {
      "cell_type": "markdown",
      "source": [
        "#### **Situação 10:**\n",
        "\n",
        "Recebemos duas demandas a respeito desse projeto com as notas dos estudantes:\n",
        "- Criar uma lista da situação dos estudantes em que caso se sua média seja maior ou igual a 6 receberá o valor \"Aprovado\" e caso contrário receberá o valor \"Reprovado\".\n",
        "- Gerar uma lista de listas com:\n",
        "  - Lista de tuplas com o nome dos estudantes e seus códigos\n",
        "  - Lista de listas com as notas de cada estudante\n",
        "  - Lista com as médias de cada estudante\n",
        "  - Lista da situação dos estudantes de acordo com as médias\n",
        "\n",
        "Os dados que utilizaremos são os mesmos que geramos nas situações anteriores (`nomes`, `notas`, `medias`).\n",
        "\n",
        "**Vamos resolver esse desafio?**\n",
        "\n",
        "Para seguirmos o processo, vou deixar logo abaixo as estruturas de dados que já produzimos.\n",
        "\n",
        "**Dica:** Para a lista das situações utilize o formato:\n",
        "```python\n",
        "[resultado_if if cond else resultado_else for item in lista]\n",
        "```"
      ],
      "metadata": {
        "id": "9yzRDIB0fkeF"
      }
    },
    {
      "cell_type": "code",
      "source": [
        "nomes = [('João', 'J720'), ('Maria', 'M205'), ('José', 'J371'), ('Cláudia', 'C546'), ('Ana', 'A347')]\n",
        "notas = [[8.0, 9.0, 10.0], [9.0, 7.0, 6.0], [3.4, 7.0, 7.0], [5.5, 6.6, 8.0], [6.0, 10.0, 9.5]]\n",
        "medias = [9.0, 7.3, 5.8, 6.7, 8.5]"
      ],
      "metadata": {
        "id": "-QlKML-tG6FN"
      },
      "execution_count": null,
      "outputs": []
    },
    {
      "cell_type": "code",
      "source": [],
      "metadata": {
        "id": "qYgaZthjQWQV"
      },
      "execution_count": null,
      "outputs": []
    },
    {
      "cell_type": "markdown",
      "source": [
        "**Dica:** Para gerar a lista de listas do enunciado podemos utilizar o formato a seguir\n",
        "```python\n",
        "[expr for item in lista de listas]\n",
        "```"
      ],
      "metadata": {
        "id": "0XsAi49IF9Ta"
      }
    },
    {
      "cell_type": "code",
      "source": [],
      "metadata": {
        "id": "G-AEgh4NGlvH"
      },
      "execution_count": null,
      "outputs": []
    },
    {
      "cell_type": "markdown",
      "source": [
        "<font color=green>**Dica:**</font> Podemos recorrer a forma mais simples de geração de listas de lista com o uso direto dos colchetes sem necessitar de utilizar as expressões e o laço for na  abrangência de listas"
      ],
      "metadata": {
        "id": "4hkHEZGbGH7X"
      }
    },
    {
      "cell_type": "code",
      "source": [],
      "metadata": {
        "id": "Oz2hU80RF82D"
      },
      "execution_count": null,
      "outputs": []
    },
    {
      "cell_type": "markdown",
      "source": [
        "## 3.3 Dict comprehension\n",
        "\n",
        "É uma forma simples e concisa de criar ou modificar um dicionário. Podemos aplicar condicionais e laços para criar diversos tipos de dicionários a partir de padrões que desejamos para a nossa estrutura de dados e com o suporte de iteráveis como listas ou sets.\n",
        "\n",
        "https://peps.python.org/pep-0274/\n",
        "\n",
        "#### Formato padrão:\n",
        "\n",
        "```python\n",
        "{chave: valor for item in lista}\n",
        "```"
      ],
      "metadata": {
        "id": "NmohhDl-QRpx"
      }
    },
    {
      "cell_type": "markdown",
      "source": [
        "#### **Situação 11:**\n",
        "\n",
        "Agora, a nossa demanda consiste em gerar um dicionário a partir da lista de listas que criamos na Situação 10 para passar para a pessoa responsável por construir as tabelas para a análise dos dados.\n",
        "- As chaves do nosso dicionário serão as colunas identificando o tipo de dado\n",
        "- Os valores serão as listas com os dados correspondentes àquela chave.\n",
        "\n",
        "**Vamos resolver esse desafio?**\n",
        "\n",
        "Para facilitar o nosso entendimento do processo vamos trabalhar com uma turma fictícia de 5 estudantes.\n",
        "\n",
        "**Dica:** Utilize o formato\n",
        "\n",
        "```python\n",
        "{chave: valor for item in lista}\n",
        "```"
      ],
      "metadata": {
        "id": "kGt8hQXOKeIt"
      }
    },
    {
      "cell_type": "code",
      "source": [
        "lista_completa = [[('João', 'J720'), ('Maria', 'M205'), ('José', 'J371'), ('Cláudia', 'C546'), ('Ana', 'A347')],\n",
        "                  [[8.0, 9.0, 10.0], [9.0, 7.0, 6.0], [3.4, 7.0, 7.0], [5.5, 6.6, 8.0], [6.0, 10.0, 9.5]],\n",
        "                  [9.0, 7.3, 5.8, 6.7, 8.5],\n",
        "                  ['Aprovado', 'Aprovado', 'Reprovado', 'Aprovado', 'Aprovado']]"
      ],
      "metadata": {
        "id": "fD_TeWtOUQKQ"
      },
      "execution_count": null,
      "outputs": []
    },
    {
      "cell_type": "code",
      "source": [
        "# Colunas com os tipos dos dados (exceto nome)\n",
        "coluna = [\"Notas\", \"Média Final\", \"Situação\"]\n",
        "\n",
        "..."
      ],
      "metadata": {
        "id": "xFkmjd4EKG7b"
      },
      "execution_count": null,
      "outputs": []
    },
    {
      "cell_type": "code",
      "source": [
        "# Vamos por fim adicionar o nome dos estudantes, extraindo apenas seus nomes da lista de tuplas\n"
      ],
      "metadata": {
        "id": "yDPfgllCKVrt"
      },
      "execution_count": null,
      "outputs": []
    },
    {
      "cell_type": "markdown",
      "source": [
        "## <font color=green> 4. LIDANDO COM EXCEÇÕES\n",
        "---"
      ],
      "metadata": {
        "id": "RxKC5WVoCYp3"
      }
    },
    {
      "cell_type": "markdown",
      "source": [
        "Podemos notar em nosso caminho até aqui a existência de alguns erros e exceções na execução de algum comando. Como uma pessoa cientista de dados ou programador, você precisará estar atento a essas situações para evitar bugs ou problemas em seus códigos e análises que possam afetar a experiência tanto do usuário quanto a eficiência da sua análise.\n",
        "\n",
        "Existem basicamente duas formas distintas de erros: os **erros de sintaxe** e as **exceções**.\n",
        "\n",
        "Exceções são erros detectados durante a execução e que quebram o fluxo do programa encerrando-o caso não sejam tratadas.  \n",
        "\n",
        "Vamos aprender a identificar e tratar algumas das exceções aqui, mas é sempre importante mergulhar na documentação para pesquisar e verificar quais se enquadram nos seus projetos.\n",
        "\n",
        "**Documentação sobre erros e exceções:** https://docs.python.org/3/tutorial/errors.html"
      ],
      "metadata": {
        "id": "MzOZ_0M3CU1x"
      }
    },
    {
      "cell_type": "markdown",
      "source": [
        "## 4.1 Tratando Exceções\n",
        "\n",
        "O tratamento das exceções contribui estabelecendo um fluxo alternativo para a execução do código evitando a interrupção dos processos inesperadamente.\n",
        "\n",
        "Existe uma série de exceções e a partir do comportamento que queremos e dos erros que queremos tratar é possível construir um caminho para o usuário ou fornecer mais detalhes sobre aquela exceção.\n",
        "\n",
        "- Hierarquia das Exceções (https://docs.python.org/3/library/exceptions.html#exception-hierarchy)"
      ],
      "metadata": {
        "id": "x3E66krBST7K"
      }
    },
    {
      "cell_type": "markdown",
      "source": [
        "### Try ... Except\n",
        "\n",
        "```python\n",
        "try:\n",
        "  # código a ser executado. Caso uma exceção seja lançada, pare imediatamente\n",
        "except <nome_da_excecao as e>:\n",
        "  # Se uma exceção for lançada no try, rode esse código, senão pule esta etapa\n",
        "```"
      ],
      "metadata": {
        "id": "h9lj8Wfk__cl"
      }
    },
    {
      "cell_type": "markdown",
      "source": [
        "#### **Situação 12:**\n",
        "\n",
        "Você criou um código que lê um dicionário com as notas dos estudantes e quis retornar a lista de notas de um estudante.\n",
        "\n",
        "Caso o(a) estudante não esteja matriculado(a) na turma devemos tratar a exceção para aparecer a mensagem \"Estudante não matriculado(a) na turma\".\n",
        "\n",
        "Vamos trabalhar nesse exemplo com a exceção **Key Error** que interromperá o processo desse pedaço do código.\n",
        "\n",
        "**Vamos testar esse primeiro tratamento?**"
      ],
      "metadata": {
        "id": "miwzhPNdD8Ty"
      }
    },
    {
      "cell_type": "code",
      "source": [
        "notas = {'João': [8.0, 9.0, 10.0], 'Maria': [9.0, 7.0, 6.0], 'José': [3.4, 7.0, 8.0], 'Cláudia': [5.5, 6.6, 8.0],\n",
        " 'Ana': [6.0, 10.0, 9.5], 'Joaquim': [5.5, 7.5, 9.0], 'Júlia': [6.0, 8.0, 7.0], 'Pedro': [3.0, 4.0, 6.0]}"
      ],
      "metadata": {
        "id": "PkMmeYxaDcIF"
      },
      "execution_count": null,
      "outputs": []
    },
    {
      "cell_type": "code",
      "source": [],
      "metadata": {
        "id": "AudrLS-BGGEy"
      },
      "execution_count": null,
      "outputs": []
    },
    {
      "cell_type": "code",
      "source": [],
      "metadata": {
        "id": "NEX6RRX7Wb0Y"
      },
      "execution_count": null,
      "outputs": []
    },
    {
      "cell_type": "code",
      "source": [],
      "metadata": {
        "id": "3oV8Bw-NGGiu"
      },
      "execution_count": null,
      "outputs": []
    },
    {
      "cell_type": "markdown",
      "source": [
        "### Adicionando o Else\n",
        "\n",
        "```python\n",
        "try:\n",
        "  # código a ser executado. Caso uma exceção seja lançada, pare imediatamente\n",
        "except:\n",
        "  # Se uma exceção for lançada no try, rode esse código, senão pule esta etapa\n",
        "else:\n",
        "  # Se não houver uma exeção lançada pelo try, rode essa parte\n",
        "```"
      ],
      "metadata": {
        "id": "hKhKzgQoBHLb"
      }
    },
    {
      "cell_type": "markdown",
      "source": [
        "#### **Situação 13:**\n",
        "\n",
        "Você criou um código que lê um dicionário com as notas dos estudantes e quis retornar a lista de notas de um estudante.\n",
        "\n",
        "Caso o(a) estudante não esteja matriculado(a) na classe devemos tratar a exceção para aparecer a mensagem \"Estudante não matriculado(a) na turma\" e se a exceção não for lançada devemos exibir a lista com as notas do(a) estudante.\n",
        "\n",
        "Vamos trabalhar nesse exemplo com a exceção **Key Error** que interromperá o processo desse pedaço do código.\n",
        "\n",
        "**Vamos testar esse tratamento?**"
      ],
      "metadata": {
        "id": "USN3SA2tMjL0"
      }
    },
    {
      "cell_type": "code",
      "source": [
        "notas = {'João': [8.0, 9.0, 10.0], 'Maria': [9.0, 7.0, 6.0], 'José': [3.4, 7.0, 8.0], 'Cláudia': [5.5, 6.6, 8.0],\n",
        " 'Ana': [6.0, 10.0, 9.5], 'Joaquim': [5.5, 7.5, 9.0], 'Júlia': [6.0, 8.0, 7.0], 'Pedro': [3.0, 4.0, 6.0]}"
      ],
      "metadata": {
        "id": "zCdjBCDFLE_6"
      },
      "execution_count": null,
      "outputs": []
    },
    {
      "cell_type": "code",
      "source": [],
      "metadata": {
        "id": "NS4vABJPDcFN"
      },
      "execution_count": null,
      "outputs": []
    },
    {
      "cell_type": "markdown",
      "source": [
        "### Adicionando o finally\n",
        "\n",
        "```python\n",
        "try:\n",
        "  # código a ser executado. Caso uma exceção seja lançada, pare imediatamente\n",
        "except:\n",
        "  # Se uma exceção for lançada no try, rode esse código, senão pule esta etapa\n",
        "else:\n",
        "  # Se não houver uma exeção lançada pelo try, rode essa parte\n",
        "finally:\n",
        "  # Rode essa parte (com ou sem exceção)\n",
        "```"
      ],
      "metadata": {
        "id": "Dw_efTlbBhll"
      }
    },
    {
      "cell_type": "markdown",
      "source": [
        "#### **Situação 14:**\n",
        "\n",
        "Você criou um código que lê um dicionário com as notas dos estudantes e quis retornar a lista de notas de um estudante.\n",
        "\n",
        "Caso o(a) estudante não esteja matriculado(a) na classe devemos tratar a exceção para aparecer a mensagem \"Estudante não matriculado(a) na turma\" e se a exceção não for lançada devemos exibir a lista com as notas do(a) estudante. Um texto avisando que \"A consulta foi encerrada!\" deve ser exibido com ou sem a exceção ser lançada.\n",
        "\n",
        "Vamos trabalhar nesse exemplo com a exceção **Key Error** que interromperá o processo desse pedaço do código.\n",
        "\n",
        "**Vamos testar esse tratamento?**"
      ],
      "metadata": {
        "id": "jGtFVx5GdnsS"
      }
    },
    {
      "cell_type": "code",
      "source": [
        "notas = {'João': [8.0, 9.0, 10.0], 'Maria': [9.0, 7.0, 6.0], 'José': [3.4, 7.0, 8.0], 'Cláudia': [5.5, 6.6, 8.0],\n",
        " 'Ana': [6.0, 10.0, 9.5], 'Joaquim': [5.5, 7.5, 9.0], 'Júlia': [6.0, 8.0, 7.0], 'Pedro': [3.0, 4.0, 6.0]}"
      ],
      "metadata": {
        "id": "uOLFoYweLN9W"
      },
      "execution_count": null,
      "outputs": []
    },
    {
      "cell_type": "code",
      "source": [],
      "metadata": {
        "id": "U8QCogXhBi8C"
      },
      "execution_count": null,
      "outputs": []
    },
    {
      "cell_type": "markdown",
      "source": [
        "## 4.2 Raise\n",
        "\n",
        "Uma outra forma de trabalhar com as exceções em seu código, é criar as suas próprias exceções para determinados comportamentos que deseja em seu código.\n",
        "\n",
        "Para isso, utilizamos a palavra-chave `raise` junto ao tipo de exceção que deseja lançar e uma mensagem a ser exibida.   "
      ],
      "metadata": {
        "id": "HdjllLBpST_2"
      }
    },
    {
      "cell_type": "markdown",
      "source": [
        "```python\n",
        "raise NomeDoErro(\"mensagem_desejada\")\n",
        "```"
      ],
      "metadata": {
        "id": "_nIOnDQufv6Z"
      }
    },
    {
      "cell_type": "markdown",
      "source": [
        "#### **Situação 15:**\n",
        "\n",
        "Você criou uma função para calcular a média de um estudante em uma dada matéria passando em uma lista as notas deste estudante.\n",
        "\n",
        "Você pretende tratar 2 situações:\n",
        "- Se a lista possuir um valor não numérico o cálculo de média não será executado e uma mensagem de \"Não foi possível calcular a média do(a) estudante. Só são aceitos valores numéricos!\" será exibida.\n",
        "- Caso a lista tenha mais de 4 notas, será lançada uma exceção do tipo **ValueError** informando que \"A lista não pode possuir mais de 4 notas.\"\n",
        "\n",
        "Um texto avisando que \"A consulta foi encerrada!\" deve ser exibido com ou sem a exceção ser lançada.\n",
        "\n",
        "**Vamos resolver esse desafio?**"
      ],
      "metadata": {
        "id": "xapeB2ivgB7R"
      }
    },
    {
      "cell_type": "code",
      "source": [
        "def media(lista: list=[0]) -> float:\n",
        "  ''' Função para calcular a média de notas passadas por uma lista\n",
        "\n",
        "  lista: list, default [0]\n",
        "    Lista com as notas para calcular a média\n",
        "  return = calculo: float\n",
        "    Média calculada\n",
        "  '''\n",
        "\n",
        "  calculo = sum(lista) / len(lista)\n",
        "\n",
        "  ...\n",
        "\n",
        "  return calculo"
      ],
      "metadata": {
        "id": "Hf7MQtMjSXS-"
      },
      "execution_count": null,
      "outputs": []
    },
    {
      "cell_type": "code",
      "source": [],
      "metadata": {
        "id": "gnlcrP93k8f2"
      },
      "execution_count": null,
      "outputs": []
    },
    {
      "cell_type": "code",
      "source": [],
      "metadata": {
        "id": "IprXe3qalX5J"
      },
      "execution_count": null,
      "outputs": []
    },
    {
      "cell_type": "code",
      "source": [],
      "metadata": {
        "id": "lO8OCMRzSXQv"
      },
      "execution_count": null,
      "outputs": []
    },
    {
      "cell_type": "code",
      "source": [],
      "metadata": {
        "id": "A-rA3l4hm4RA"
      },
      "execution_count": null,
      "outputs": []
    },
    {
      "cell_type": "code",
      "source": [],
      "metadata": {
        "id": "Jf3Sg5H-m4Za"
      },
      "execution_count": null,
      "outputs": []
    }
  ]
}